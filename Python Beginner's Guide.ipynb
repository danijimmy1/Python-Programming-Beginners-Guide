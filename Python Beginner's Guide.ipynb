{
 "cells": [
  {
   "cell_type": "markdown",
   "metadata": {
    "slideshow": {
     "slide_type": "-"
    }
   },
   "source": [
    "### Outline\n",
    "\n",
    "<ol>\n",
    "    <li>Introduction to Strings</li>\n",
    "    <li>Numbers</li>\n",
    "    <li>Arithmetic Operations</li>\n",
    "    <li>Using Help</li>\n",
    "    <li>Booleans</li>\n",
    "    <li>Datetime Module</li>\n",
    "    <li>if-then-else Statements</li>\n",
    "    <li>Functions</li>\n",
    "    <li>Sets</li>\n",
    "    <li>Lists</li>\n",
    "    <li>Dictionaries</li>\n",
    "    <li>Tuples</li>\n",
    "    <li>Log</li>\n",
    "    <li>Recursion, Fibonacci Sequence and Memoization</li>\n",
    "    <li>Random Number Module</li>\n",
    "    <li>List Comprehension</li>\n",
    "    <li>Classes and Objects</li>\n",
    "</ol>"
   ]
  },
  {
   "cell_type": "code",
   "execution_count": 20,
   "metadata": {
    "slideshow": {
     "slide_type": "slide"
    }
   },
   "outputs": [
    {
     "name": "stdout",
     "output_type": "stream",
     "text": [
      "Hello World!\n"
     ]
    }
   ],
   "source": [
    "print(\"Hello World!\")"
   ]
  },
  {
   "cell_type": "markdown",
   "metadata": {},
   "source": [
    "#### Introduction to strings"
   ]
  },
  {
   "cell_type": "code",
   "execution_count": 21,
   "metadata": {},
   "outputs": [
    {
     "name": "stdout",
     "output_type": "stream",
     "text": [
      "Meet me tonight.\n"
     ]
    }
   ],
   "source": [
    "message = \"Meet me tonight.\"\n",
    "print(message)"
   ]
  },
  {
   "cell_type": "code",
   "execution_count": 22,
   "metadata": {},
   "outputs": [
    {
     "name": "stdout",
     "output_type": "stream",
     "text": [
      "The clock strikes at midnight\n"
     ]
    }
   ],
   "source": [
    "message2 = 'The clock strikes at midnight'\n",
    "print(message2)"
   ]
  },
  {
   "cell_type": "code",
   "execution_count": 4,
   "metadata": {},
   "outputs": [
    {
     "name": "stdout",
     "output_type": "stream",
     "text": [
      "I'm looking for someone to share advanture\n"
     ]
    }
   ],
   "source": [
    "message3 = 'I\\'m looking for someone to share advanture'\n",
    "print(message3)"
   ]
  },
  {
   "cell_type": "code",
   "execution_count": 23,
   "metadata": {},
   "outputs": [
    {
     "name": "stdout",
     "output_type": "stream",
     "text": [
      "One of my favourite lines from Godfather is:\n",
      "    \"I'm going to make him offer he can't refuse.\"\n",
      "    Do you know who said this?\n"
     ]
    }
   ],
   "source": [
    "#For more than one line with quotes\n",
    "movie_quote = \"\"\"One of my favourite lines from Godfather is:\n",
    "    \"I'm going to make him offer he can't refuse.\"\n",
    "    Do you know who said this?\"\"\"\n",
    "print(movie_quote)"
   ]
  },
  {
   "cell_type": "markdown",
   "metadata": {},
   "source": [
    "#### Numbers"
   ]
  },
  {
   "cell_type": "code",
   "execution_count": 24,
   "metadata": {},
   "outputs": [
    {
     "name": "stdout",
     "output_type": "stream",
     "text": [
      "Type of a number  <class 'int'>\n",
      "Value of a number  496\n",
      "Type of a number  <class 'float'>\n",
      "Value of a number  3.5\n"
     ]
    }
   ],
   "source": [
    "#Types of numbers: int, float, complex\n",
    "a = 496 #This is a perfext number\n",
    "print('Type of a number ', type(a))\n",
    "print('Value of a number ', a)\n",
    "a = 3.5\n",
    "print('Type of a number ', type(a))\n",
    "print('Value of a number ', a)"
   ]
  },
  {
   "cell_type": "code",
   "execution_count": 7,
   "metadata": {},
   "outputs": [
    {
     "name": "stdout",
     "output_type": "stream",
     "text": [
      "Type of a number  <class 'float'>\n",
      "Value of a number  2.718281828\n"
     ]
    }
   ],
   "source": [
    "#floating point\n",
    "e = 2.718281828\n",
    "print('Type of a number ', type(e))\n",
    "print('Value of a number ', e)"
   ]
  },
  {
   "cell_type": "code",
   "execution_count": 8,
   "metadata": {},
   "outputs": [
    {
     "name": "stdout",
     "output_type": "stream",
     "text": [
      "(2-6.1j)\n",
      "Real part of z is  2.0\n",
      "Imaginary part of z is  -6.1\n"
     ]
    }
   ],
   "source": [
    "#complex number\n",
    "z = 2 - 6.1j\n",
    "print(z)\n",
    "print(\"Real part of z is \", z.real)\n",
    "print(\"Imaginary part of z is \", z.imag)"
   ]
  },
  {
   "cell_type": "code",
   "execution_count": null,
   "metadata": {},
   "outputs": [],
   "source": []
  },
  {
   "cell_type": "markdown",
   "metadata": {},
   "source": [
    "#### Arithmetic\n",
    "\n",
    "<ul>\n",
    "    <li>Numbers: int, floats, complex</li>\n",
    "    <li>Operations: +, -, /, *</li>\n",
    "</ul>"
   ]
  },
  {
   "cell_type": "code",
   "execution_count": 9,
   "metadata": {},
   "outputs": [],
   "source": [
    "x = 28 # int\n",
    "y = 28.0 # float"
   ]
  },
  {
   "cell_type": "code",
   "execution_count": 10,
   "metadata": {},
   "outputs": [
    {
     "name": "stdout",
     "output_type": "stream",
     "text": [
      "1.732\n"
     ]
    }
   ],
   "source": [
    "# To convert number into complex number\n",
    "a = 1.732 #float\n",
    "print(a)"
   ]
  },
  {
   "cell_type": "code",
   "execution_count": 11,
   "metadata": {},
   "outputs": [
    {
     "name": "stdout",
     "output_type": "stream",
     "text": [
      "(1.732+0j)\n"
     ]
    }
   ],
   "source": [
    "a = 1.732 + 0j\n",
    "print(a)"
   ]
  },
  {
   "cell_type": "code",
   "execution_count": 12,
   "metadata": {},
   "outputs": [
    {
     "name": "stdout",
     "output_type": "stream",
     "text": [
      "(1.732+0j)\n"
     ]
    }
   ],
   "source": [
    "# Or pass number to complex constructor\n",
    "print(complex(1.732))"
   ]
  },
  {
   "cell_type": "code",
   "execution_count": 13,
   "metadata": {},
   "outputs": [],
   "source": [
    "# Arithmetic operations\n",
    "a = 2 # int\n",
    "b = 6.0 # float\n",
    "c = 12 + 0j # complex number"
   ]
  },
  {
   "cell_type": "code",
   "execution_count": 14,
   "metadata": {},
   "outputs": [
    {
     "name": "stdout",
     "output_type": "stream",
     "text": [
      "8.0\n"
     ]
    }
   ],
   "source": [
    "# Rule: widen numbers so they are of same type\n",
    "# Addition\n",
    "s = a + b # int + float = float (a is widen to float)\n",
    "print(s)"
   ]
  },
  {
   "cell_type": "code",
   "execution_count": 15,
   "metadata": {},
   "outputs": [
    {
     "name": "stdout",
     "output_type": "stream",
     "text": [
      "4.0\n"
     ]
    }
   ],
   "source": [
    "# Subtraction\n",
    "ss = b - a # float - int = float (a is widen to float)\n",
    "print(ss)"
   ]
  },
  {
   "cell_type": "code",
   "execution_count": 16,
   "metadata": {},
   "outputs": [
    {
     "name": "stdout",
     "output_type": "stream",
     "text": [
      "14\n"
     ]
    }
   ],
   "source": [
    "# Multiplication\n",
    "m = a * 7 # int * int\n",
    "print(m)"
   ]
  },
  {
   "cell_type": "code",
   "execution_count": 17,
   "metadata": {},
   "outputs": [
    {
     "name": "stdout",
     "output_type": "stream",
     "text": [
      "(2+0j)\n"
     ]
    }
   ],
   "source": [
    "# Division\n",
    "dd = c / b # complex / float (b is widen to complex)\n",
    "print(dd)"
   ]
  },
  {
   "cell_type": "code",
   "execution_count": 18,
   "metadata": {},
   "outputs": [
    {
     "name": "stdout",
     "output_type": "stream",
     "text": [
      "1\n"
     ]
    }
   ],
   "source": [
    "rem = 16 % 5 # This gives remainder\n",
    "print(rem)"
   ]
  },
  {
   "cell_type": "markdown",
   "metadata": {},
   "source": [
    "#### Using Help in Python"
   ]
  },
  {
   "cell_type": "code",
   "execution_count": 4,
   "metadata": {},
   "outputs": [
    {
     "name": "stdout",
     "output_type": "stream",
     "text": [
      "Help on built-in function pow in module builtins:\n",
      "\n",
      "pow(x, y, z=None, /)\n",
      "    Equivalent to x**y (with two arguments) or x**y % z (with three arguments)\n",
      "    \n",
      "    Some types, such as ints, are able to use a more efficient algorithm when\n",
      "    invoked using the three argument form.\n",
      "\n"
     ]
    }
   ],
   "source": [
    "# Accessing help in python\n",
    "help(pow)"
   ]
  },
  {
   "cell_type": "markdown",
   "metadata": {},
   "source": [
    "#### Booleans\n",
    "<br/>\n",
    "<li>In python every string is converted to true and only empty string is converted to false. </li>\n",
    "\n",
    "<li>Trivial values are converted to true and non-trivial values are false. </li>"
   ]
  },
  {
   "cell_type": "code",
   "execution_count": 21,
   "metadata": {},
   "outputs": [
    {
     "name": "stdout",
     "output_type": "stream",
     "text": [
      "False\n"
     ]
    }
   ],
   "source": [
    "a = 3\n",
    "b = 5\n",
    "# == for comparison\n",
    "print(a == b)"
   ]
  },
  {
   "cell_type": "code",
   "execution_count": 22,
   "metadata": {},
   "outputs": [
    {
     "name": "stdout",
     "output_type": "stream",
     "text": [
      "True\n"
     ]
    }
   ],
   "source": [
    "print(a != b)"
   ]
  },
  {
   "cell_type": "markdown",
   "metadata": {},
   "source": [
    "#### datetime module"
   ]
  },
  {
   "cell_type": "code",
   "execution_count": 26,
   "metadata": {},
   "outputs": [
    {
     "name": "stdout",
     "output_type": "stream",
     "text": [
      "1956-01-31\n",
      "1956\n",
      "1\n",
      "31\n"
     ]
    }
   ],
   "source": [
    "import datetime\n",
    "\n",
    "# Default format for date is yyyy-mm-dd\n",
    "gvr = datetime.date(1956, 1, 31)\n",
    "print(gvr)\n",
    "print(gvr.year)\n",
    "print(gvr.month)\n",
    "print(gvr.day)"
   ]
  },
  {
   "cell_type": "code",
   "execution_count": 24,
   "metadata": {},
   "outputs": [
    {
     "name": "stdout",
     "output_type": "stream",
     "text": [
      "mill + dt :  2000-04-10\n"
     ]
    }
   ],
   "source": [
    "# To add or subtract number of days from date use timedelta\n",
    "mill = datetime.date(2000, 1, 1)\n",
    "# This takes number of days as arg\n",
    "dt = datetime.timedelta(100)\n",
    "# Positive number will increase the date and negative number will decrease the date\n",
    "print(\"mill + dt : \",mill + dt)"
   ]
  },
  {
   "cell_type": "code",
   "execution_count": 25,
   "metadata": {},
   "outputs": [
    {
     "name": "stdout",
     "output_type": "stream",
     "text": [
      "Tuesday, January 31, 1956\n",
      "GVR was born on  Tuesday, January 31, 1956.\n"
     ]
    }
   ],
   "source": [
    "# Reformat the date\n",
    "# Day-name, Month-name day #, Year\n",
    "# Two ways to do this\n",
    "print(gvr.strftime(\"%A, %B %d, %Y\"))\n",
    "message = \"GVR was born on  {:%A, %B %d, %Y}.\"\n",
    "print(message.format(gvr))"
   ]
  },
  {
   "cell_type": "code",
   "execution_count": 26,
   "metadata": {},
   "outputs": [
    {
     "name": "stdout",
     "output_type": "stream",
     "text": [
      "2017-03-30\n",
      "22:27:00\n",
      "2017-03-30 22:27:00\n"
     ]
    }
   ],
   "source": [
    "# Format similar to launch date\n",
    "launch_date = datetime.date(2017, 3, 30)\n",
    "launch_time = datetime.time(22, 27, 0)\n",
    "launch_datetime = datetime.datetime(2017, 3, 30, 22, 27, 0)\n",
    "print(launch_date)\n",
    "print(launch_time)\n",
    "print(launch_datetime)"
   ]
  },
  {
   "cell_type": "code",
   "execution_count": 27,
   "metadata": {},
   "outputs": [
    {
     "name": "stdout",
     "output_type": "stream",
     "text": [
      "2019-02-08 16:16:44.650843\n"
     ]
    }
   ],
   "source": [
    "# Access current date and time\n",
    "# This can be achieved using method today\n",
    "now = datetime.datetime.today()\n",
    "print(now)"
   ]
  },
  {
   "cell_type": "code",
   "execution_count": 28,
   "metadata": {},
   "outputs": [
    {
     "name": "stdout",
     "output_type": "stream",
     "text": [
      "1969-07-20 00:00:00\n",
      "<class 'datetime.datetime'>\n"
     ]
    }
   ],
   "source": [
    "# Taking date as a string and converting that string as a date\n",
    "# This can be done using method String parse Time a.k.a strptime \n",
    "moon_landing = \"7/20/1969\"\n",
    "moon_landing_datetime = datetime.datetime.strptime(moon_landing, \"%m/%d/%Y\")\n",
    "print(moon_landing_datetime)\n",
    "print(type(moon_landing_datetime))"
   ]
  },
  {
   "cell_type": "markdown",
   "metadata": {},
   "source": [
    "#### if-else "
   ]
  },
  {
   "cell_type": "code",
   "execution_count": 28,
   "metadata": {},
   "outputs": [
    {
     "name": "stdout",
     "output_type": "stream",
     "text": [
      "Please Enter a String : abc\n",
      "Your String is too short.\n",
      "Enter a String with at least 6 characters.\n"
     ]
    }
   ],
   "source": [
    "#1\n",
    "# Collect String / Test Length\n",
    "\n",
    "password = input(\"Please Enter a String : \")\n",
    "\n",
    "if len(password) < 6:\n",
    "\tprint(\"Your String is too short.\")\n",
    "\tprint(\"Enter a String with at least 6 characters.\")"
   ]
  },
  {
   "cell_type": "code",
   "execution_count": 29,
   "metadata": {},
   "outputs": [
    {
     "name": "stdout",
     "output_type": "stream",
     "text": [
      "Enter a number : 3\n",
      "Number is odd.\n"
     ]
    }
   ],
   "source": [
    "#2\n",
    "# Prompt the user to enter number / test if even or odd\n",
    "num = int(input(\"Enter a number : \"))\n",
    "\n",
    "if num % 2 == 0:\n",
    "\tprint(\"Number is even.\")\n",
    "else:\n",
    "\tprint(\"Number is odd.\")"
   ]
  },
  {
   "cell_type": "code",
   "execution_count": 30,
   "metadata": {},
   "outputs": [
    {
     "name": "stdout",
     "output_type": "stream",
     "text": [
      "Enter length of side a : 5\n",
      "Enter length of side b : 4\n",
      "Enter length of side c : 3\n",
      "This is a scalane triangle.\n"
     ]
    }
   ],
   "source": [
    "#3\n",
    "# Scalane Triangle : All sides have different sides\n",
    "# Isosceles Triangle : Two sides have same length\n",
    "# Equilateral Triangle : All sides are equal.\n",
    "\n",
    "a = int(input(\"Enter length of side a : \"))\n",
    "b = int(input(\"Enter length of side b : \"))\n",
    "c = int(input(\"Enter length of side c : \"))\n",
    "\n",
    "if a!=b and b!=c and a!=c:\n",
    "\tprint(\"This is a scalane triangle.\")\n",
    "elif a == b and b == c:\n",
    "\tprint(\"This is equilateral triangle.\")\n",
    "else:\n",
    "\tprint(\"It is Isosceles triangle.\") "
   ]
  },
  {
   "cell_type": "markdown",
   "metadata": {},
   "source": [
    "#### Functions\n",
    "\n",
    "##### Types of Arguments\n",
    "\n",
    "<ol>\n",
    "    <li>Keyword arguments which are <b>with</b> some initial value</li>\n",
    "    <li>Required arguments which are <b>without</b> any initial values</li>\n",
    "</ol>"
   ]
  },
  {
   "cell_type": "code",
   "execution_count": 32,
   "metadata": {},
   "outputs": [],
   "source": [
    "import math\n",
    "\n",
    "def ping():\n",
    "    return \"Ping!\"\n",
    "\n",
    "def volume(r):\n",
    "    \"\"\"Returns the volume of sphere with radius r.\"\"\"\n",
    "    v = (4.0/3.0) * math.pi * r**3\n",
    "    return v\n",
    "\n",
    "def traingle_area(b, h):\n",
    "    \"\"\"This function returns the area of the traingle\"\"\"\n",
    "    return 0.5 * b * h"
   ]
  },
  {
   "cell_type": "code",
   "execution_count": 33,
   "metadata": {},
   "outputs": [
    {
     "name": "stdout",
     "output_type": "stream",
     "text": [
      "Ping!\n",
      "113.09733552923254\n",
      "4.0\n"
     ]
    }
   ],
   "source": [
    "x = ping()\n",
    "print(x)\n",
    "\n",
    "vol = volume(3)\n",
    "print(vol)\n",
    "\n",
    "area_tr = traingle_area(2, 4)\n",
    "print(area_tr)"
   ]
  },
  {
   "cell_type": "code",
   "execution_count": 34,
   "metadata": {},
   "outputs": [
    {
     "name": "stdout",
     "output_type": "stream",
     "text": [
      "152.4\n",
      "177.8\n",
      "172.72\n",
      "172.72\n"
     ]
    }
   ],
   "source": [
    "# function with keyword arguments\n",
    "def cm(feet = 0, inches = 0):\n",
    "\t\"\"\"converts a length from feet and inches to centimeters\"\"\"\n",
    "\tinches_to_cm = inches * 2.54\n",
    "\tfeet_to_cm = feet * 12 * 2.54\n",
    "\treturn inches_to_cm + feet_to_cm\n",
    "\n",
    "print(cm(feet = 5))\n",
    "print(cm(inches = 70))\n",
    "print(cm(feet = 5, inches = 8))\n",
    "print(cm(inches = 8, feet = 5))"
   ]
  },
  {
   "cell_type": "markdown",
   "metadata": {},
   "source": [
    "<p>While writing a function with combination of required and keyword arguments, <b>Keyword arguments are last</b> and <b>Keyword arguments are passed by names</b></p>"
   ]
  },
  {
   "cell_type": "code",
   "execution_count": 35,
   "metadata": {},
   "outputs": [
    {
     "name": "stdout",
     "output_type": "stream",
     "text": [
      "5\n",
      "9\n"
     ]
    }
   ],
   "source": [
    "def g(y, x = 0):\n",
    "\treturn x + y\n",
    "\n",
    "print(g(5))\n",
    "print(g(5, x = 4))"
   ]
  },
  {
   "cell_type": "markdown",
   "metadata": {},
   "source": [
    "#### Sets\n",
    "<br/>\n",
    "<li>Sets do not contain duplicate elements</li>"
   ]
  },
  {
   "cell_type": "markdown",
   "metadata": {},
   "source": [
    "##### Adding element to the set"
   ]
  },
  {
   "cell_type": "code",
   "execution_count": 36,
   "metadata": {},
   "outputs": [
    {
     "name": "stdout",
     "output_type": "stream",
     "text": [
      "{False, 42, 3.14159}\n",
      "Length of set :  3\n"
     ]
    }
   ],
   "source": [
    "example = set()\n",
    "example.add(42)\n",
    "example.add(False)\n",
    "example.add(3.14159)\n",
    "print(example)\n",
    "print(\"Length of set : \",len(example))"
   ]
  },
  {
   "cell_type": "markdown",
   "metadata": {},
   "source": [
    "##### Removing element from the set"
   ]
  },
  {
   "cell_type": "code",
   "execution_count": 37,
   "metadata": {},
   "outputs": [
    {
     "name": "stdout",
     "output_type": "stream",
     "text": [
      "Removing element 42 from the set\n",
      "{False, 3.14159}\n"
     ]
    }
   ],
   "source": [
    "print(\"Removing element 42 from the set\")\n",
    "example.remove(42)\n",
    "print(example)"
   ]
  },
  {
   "cell_type": "code",
   "execution_count": 38,
   "metadata": {},
   "outputs": [
    {
     "name": "stdout",
     "output_type": "stream",
     "text": [
      "Adding element 50 to the set\n",
      "{False, 50, 3.14159}\n",
      "After discarding the element 50 from the set\n",
      "{False, 3.14159}\n"
     ]
    }
   ],
   "source": [
    "# element can also be removed using discard method\n",
    "print(\"Adding element 50 to the set\")\n",
    "example.add(50)\n",
    "print(example)\n",
    "\n",
    "print(\"After discarding the element 50 from the set\")\n",
    "example.discard(50)\n",
    "print(example)"
   ]
  },
  {
   "cell_type": "markdown",
   "metadata": {},
   "source": [
    "##### Prepoulate set"
   ]
  },
  {
   "cell_type": "code",
   "execution_count": 39,
   "metadata": {},
   "outputs": [
    {
     "name": "stdout",
     "output_type": "stream",
     "text": [
      "4\n",
      "{'Helium', True, 2.71828, 28}\n"
     ]
    }
   ],
   "source": [
    "example2 = set([28, True, 2.71828, \"Helium\"])\n",
    "print(len(example2))\n",
    "print(example2)"
   ]
  },
  {
   "cell_type": "markdown",
   "metadata": {},
   "source": [
    "##### Remove all the elements from the set"
   ]
  },
  {
   "cell_type": "code",
   "execution_count": 40,
   "metadata": {},
   "outputs": [
    {
     "name": "stdout",
     "output_type": "stream",
     "text": [
      "0\n"
     ]
    }
   ],
   "source": [
    "# To remove all the elements from the set use clear method\n",
    "example2.clear()\n",
    "print(len(example2))"
   ]
  },
  {
   "cell_type": "markdown",
   "metadata": {},
   "source": [
    "##### Set Operations"
   ]
  },
  {
   "cell_type": "code",
   "execution_count": 41,
   "metadata": {},
   "outputs": [],
   "source": [
    "# Union and intersection of set\n",
    "# Integers 1 - 10\n",
    "\n",
    "odds = set([1, 3, 5, 7, 9])\n",
    "evens = set([2, 4, 6, 8, 10])\n",
    "primes = set([2, 3, 5, 7])\n",
    "composites = set([4, 6, 8, 9, 10])"
   ]
  },
  {
   "cell_type": "code",
   "execution_count": 42,
   "metadata": {},
   "outputs": [
    {
     "name": "stdout",
     "output_type": "stream",
     "text": [
      "union of odds and evens\n",
      "{1, 2, 3, 4, 5, 6, 7, 8, 9, 10}\n",
      "Intersection of odds and primes\n",
      "{3, 5, 7}\n",
      "Intersection of evens and primes\n",
      "{2}\n",
      "Union of primes and composite\n",
      "{2, 3, 4, 5, 6, 7, 8, 9, 10}\n",
      "True\n",
      "False\n"
     ]
    }
   ],
   "source": [
    "print(\"union of odds and evens\")\n",
    "print(odds.union(evens))\n",
    "print(\"Intersection of odds and primes\")\n",
    "print(odds.intersection(primes))\n",
    "print(\"Intersection of evens and primes\")\n",
    "print(primes.intersection(evens))\n",
    "print(\"Union of primes and composite\")\n",
    "print(primes.union(composites))\n",
    "print(2 in primes)\n",
    "print(9 in evens)"
   ]
  },
  {
   "cell_type": "markdown",
   "metadata": {},
   "source": [
    "##### Lists"
   ]
  },
  {
   "cell_type": "code",
   "execution_count": 43,
   "metadata": {},
   "outputs": [],
   "source": [
    "# Two ways to create lists in python\n",
    "example = list()\n",
    "example2 = []"
   ]
  },
  {
   "cell_type": "code",
   "execution_count": 44,
   "metadata": {},
   "outputs": [
    {
     "name": "stdout",
     "output_type": "stream",
     "text": [
      "[2, 3, 5, 7, 11, 13, 17, 19]\n"
     ]
    }
   ],
   "source": [
    "primes = [2, 3, 5, 7, 11, 13]\n",
    "primes.append(17)\n",
    "primes.append(19)\n",
    "print(primes)"
   ]
  },
  {
   "cell_type": "code",
   "execution_count": 45,
   "metadata": {},
   "outputs": [
    {
     "name": "stdout",
     "output_type": "stream",
     "text": [
      "2\n",
      "Looking at the last item\n",
      "19\n"
     ]
    }
   ],
   "source": [
    "print(primes[0])\n",
    "print(\"Looking at the last item\")\n",
    "print(primes[-1])"
   ]
  },
  {
   "cell_type": "code",
   "execution_count": 46,
   "metadata": {},
   "outputs": [
    {
     "name": "stdout",
     "output_type": "stream",
     "text": [
      "[5, 7, 11]\n"
     ]
    }
   ],
   "source": [
    "# Slicing\n",
    "s1 = primes[2:5]\n",
    "print(s1)"
   ]
  },
  {
   "cell_type": "code",
   "execution_count": 47,
   "metadata": {},
   "outputs": [
    {
     "name": "stdout",
     "output_type": "stream",
     "text": [
      "[2, 3, 5, 7, 11, 13]\n"
     ]
    }
   ],
   "source": [
    "s2 = primes[0:6]\n",
    "print(s2)"
   ]
  },
  {
   "cell_type": "code",
   "execution_count": 48,
   "metadata": {},
   "outputs": [
    {
     "name": "stdout",
     "output_type": "stream",
     "text": [
      "[128, True, 'Alpha', 1.732, [64, False]]\n"
     ]
    }
   ],
   "source": [
    "example = [128, True, \"Alpha\", 1.732, [64, False]]\n",
    "print(example)"
   ]
  },
  {
   "cell_type": "code",
   "execution_count": 49,
   "metadata": {},
   "outputs": [
    {
     "name": "stdout",
     "output_type": "stream",
     "text": [
      "After Combining\n",
      "[1, 2, 3, 'a', 'b', 'c']\n",
      "['a', 'b', 'c', 1, 2, 3]\n"
     ]
    }
   ],
   "source": [
    "# Combining lists\n",
    "numbers = [1, 2, 3]\n",
    "letters = ['a', 'b', 'c']\n",
    "print(\"After Combining\")\n",
    "print(numbers + letters)\n",
    "print(letters + numbers)"
   ]
  },
  {
   "cell_type": "code",
   "execution_count": 50,
   "metadata": {},
   "outputs": [
    {
     "name": "stdout",
     "output_type": "stream",
     "text": [
      "To reverse the list\n",
      "[3, 2, 1]\n"
     ]
    }
   ],
   "source": [
    "print(\"To reverse the list\")\n",
    "numbers.reverse()\n",
    "print(numbers)"
   ]
  },
  {
   "cell_type": "markdown",
   "metadata": {},
   "source": [
    "#### Dictionaries"
   ]
  },
  {
   "cell_type": "code",
   "execution_count": 51,
   "metadata": {},
   "outputs": [],
   "source": [
    "# FriendFace Post\n",
    "# user_id = 209\n",
    "# message = \"I love my family.\"\n",
    "# language = \"English\"\n",
    "# datetime = \"20230215T124231Z\"\n",
    "# location = (44.590533, -104.715556)\n",
    "\n",
    "post = {\"user_id\": 209, \"message\": \"I love my family.\", \"language\":\"English\",\n",
    "\t\t\"datetime\":\"20230215T124231Z\", \"location\": (44.590533, -104.715556)}"
   ]
  },
  {
   "cell_type": "code",
   "execution_count": 52,
   "metadata": {},
   "outputs": [
    {
     "name": "stdout",
     "output_type": "stream",
     "text": [
      "<class 'dict'>\n",
      "{'user_id': 209, 'message': 'I love my family.', 'language': 'English', 'datetime': '20230215T124231Z', 'location': (44.590533, -104.715556)}\n"
     ]
    }
   ],
   "source": [
    "print(type(post))\n",
    "print(post)"
   ]
  },
  {
   "cell_type": "code",
   "execution_count": 5,
   "metadata": {},
   "outputs": [
    {
     "name": "stdout",
     "output_type": "stream",
     "text": [
      "{'message': 'I love my family.', 'language': 'English', 'user_id': 209, 'datetime': '19771116T093001Z'}\n"
     ]
    }
   ],
   "source": [
    "post2 = dict(message = \"I love my family.\", language = \"English\")\n",
    "post2[\"user_id\"] = 209\n",
    "post2[\"datetime\"] = \"19771116T093001Z\"\n",
    "print(post2)"
   ]
  },
  {
   "cell_type": "code",
   "execution_count": 54,
   "metadata": {},
   "outputs": [
    {
     "name": "stdout",
     "output_type": "stream",
     "text": [
      "I love my family.\n"
     ]
    }
   ],
   "source": [
    "# To access specific key with value\n",
    "print(post['message'])"
   ]
  },
  {
   "cell_type": "code",
   "execution_count": 55,
   "metadata": {},
   "outputs": [
    {
     "name": "stdout",
     "output_type": "stream",
     "text": [
      "The post does not contain location value.\n"
     ]
    }
   ],
   "source": [
    "# To avoid error that key is not in the dictionary\n",
    "if 'location' in post2:\n",
    "\tprint(post2['location'])\n",
    "else:\n",
    "\tprint(\"The post does not contain location value.\")"
   ]
  },
  {
   "cell_type": "code",
   "execution_count": 56,
   "metadata": {},
   "outputs": [
    {
     "name": "stdout",
     "output_type": "stream",
     "text": [
      "The post does not have location value.\n"
     ]
    }
   ],
   "source": [
    "# Another way to do this is using try and except\n",
    "\n",
    "try:\n",
    "\tprint(post2['location'])\n",
    "except:\n",
    "\tprint(\"The post does not have location value.\")"
   ]
  },
  {
   "cell_type": "code",
   "execution_count": 6,
   "metadata": {},
   "outputs": [
    {
     "name": "stdout",
     "output_type": "stream",
     "text": [
      "I love my family.\n"
     ]
    }
   ],
   "source": [
    "# Use get() method to get the key value\n",
    "loc = post2.get('location', None)\n",
    "print(loc)"
   ]
  },
  {
   "cell_type": "code",
   "execution_count": 58,
   "metadata": {},
   "outputs": [
    {
     "name": "stdout",
     "output_type": "stream",
     "text": [
      "user_id = 209\n",
      "message = I love my family.\n",
      "language = English\n",
      "datetime = 20230215T124231Z\n",
      "location = (44.590533, -104.715556)\n"
     ]
    }
   ],
   "source": [
    "# To iterate over all the keys\n",
    "for keys in post.keys():\n",
    "\tvalue = post[keys]\n",
    "\tprint(keys, \"=\", value)"
   ]
  },
  {
   "cell_type": "code",
   "execution_count": 59,
   "metadata": {},
   "outputs": [
    {
     "name": "stdout",
     "output_type": "stream",
     "text": [
      "Another Method\n",
      "user_id = 209\n",
      "message = I love my family.\n",
      "language = English\n",
      "datetime = 20230215T124231Z\n",
      "location = (44.590533, -104.715556)\n"
     ]
    }
   ],
   "source": [
    "print(\"Another Method\")\n",
    "# Another way to iterate over all the key value pairs \n",
    "for key, values in post.items():\n",
    "\tprint(key, \"=\", values)"
   ]
  },
  {
   "cell_type": "markdown",
   "metadata": {},
   "source": [
    "#### Tuples"
   ]
  },
  {
   "cell_type": "code",
   "execution_count": 60,
   "metadata": {},
   "outputs": [],
   "source": [
    "import sys\n",
    "import timeit\n",
    "\n",
    "# Difference between list and tuples\n",
    "# List Example\n",
    "prime_numbers = [2, 3, 5, 7, 11, 13, 17]\n",
    "\n",
    "# Tuple Example\n",
    "perfect_squares = (1, 4, 9, 16, 25, 36)"
   ]
  },
  {
   "cell_type": "code",
   "execution_count": 61,
   "metadata": {},
   "outputs": [
    {
     "name": "stdout",
     "output_type": "stream",
     "text": [
      "# Primes =  7\n",
      "# Squares =  6\n"
     ]
    }
   ],
   "source": [
    "# Display Length\n",
    "print(\"# Primes = \", len(prime_numbers))\n",
    "print(\"# Squares = \", len(perfect_squares))"
   ]
  },
  {
   "cell_type": "code",
   "execution_count": 62,
   "metadata": {},
   "outputs": [
    {
     "name": "stdout",
     "output_type": "stream",
     "text": [
      "Prime :  2\n",
      "Prime :  3\n",
      "Prime :  5\n",
      "Prime :  7\n",
      "Prime :  11\n",
      "Prime :  13\n",
      "Prime :  17\n",
      "Square :  1\n",
      "Square :  4\n",
      "Square :  9\n",
      "Square :  16\n",
      "Square :  25\n",
      "Square :  36\n"
     ]
    }
   ],
   "source": [
    "# Iterate over both sequences\n",
    "for p in prime_numbers:\n",
    "\tprint(\"Prime : \", p)\n",
    "\n",
    "for n in perfect_squares:\n",
    "\tprint(\"Square : \", n)"
   ]
  },
  {
   "cell_type": "code",
   "execution_count": 63,
   "metadata": {},
   "outputs": [
    {
     "name": "stdout",
     "output_type": "stream",
     "text": [
      "List methods\n",
      "['__add__', '__class__', '__contains__', '__delattr__', '__delitem__', '__dir__', '__doc__', '__eq__', '__format__', '__ge__', '__getattribute__', '__getitem__', '__gt__', '__hash__', '__iadd__', '__imul__', '__init__', '__init_subclass__', '__iter__', '__le__', '__len__', '__lt__', '__mul__', '__ne__', '__new__', '__reduce__', '__reduce_ex__', '__repr__', '__reversed__', '__rmul__', '__setattr__', '__setitem__', '__sizeof__', '__str__', '__subclasshook__', 'append', 'clear', 'copy', 'count', 'extend', 'index', 'insert', 'pop', 'remove', 'reverse', 'sort']\n",
      "--------------------------------------------------------------------------------\n",
      "Tuples methods\n",
      "['__add__', '__class__', '__contains__', '__delattr__', '__dir__', '__doc__', '__eq__', '__format__', '__ge__', '__getattribute__', '__getitem__', '__getnewargs__', '__gt__', '__hash__', '__init__', '__init_subclass__', '__iter__', '__le__', '__len__', '__lt__', '__mul__', '__ne__', '__new__', '__reduce__', '__reduce_ex__', '__repr__', '__rmul__', '__setattr__', '__sizeof__', '__str__', '__subclasshook__', 'count', 'index']\n"
     ]
    }
   ],
   "source": [
    "# Methods for list\n",
    "print(\"List methods\")\n",
    "print(dir(prime_numbers))\n",
    "print(80*\"-\")\n",
    "print(\"Tuples methods\")\n",
    "print(dir(perfect_squares))"
   ]
  },
  {
   "cell_type": "code",
   "execution_count": 64,
   "metadata": {},
   "outputs": [
    {
     "name": "stdout",
     "output_type": "stream",
     "text": [
      "Getting size of list and tuple\n",
      "List size =  128\n",
      "Tuple size =  112\n"
     ]
    }
   ],
   "source": [
    "# Creating list and tuple of exactly same elemets\n",
    "list_eg = [1, 2, 3, \"a\", \"b\", \"c\", True, 3.14159]\n",
    "tuple_eg = (1, 2, 3, \"a\", \"b\", \"c\", True, 3.14159)\n",
    "print(\"Getting size of list and tuple\")\n",
    "print(\"List size = \", sys.getsizeof(list_eg))\n",
    "print(\"Tuple size = \", sys.getsizeof(tuple_eg))"
   ]
  },
  {
   "cell_type": "code",
   "execution_count": 65,
   "metadata": {},
   "outputs": [
    {
     "name": "stdout",
     "output_type": "stream",
     "text": [
      "List time :  0.5954892069967173\n",
      "Tuple time :  0.1480178630008595\n"
     ]
    }
   ],
   "source": [
    "# To see which takes more time list or tuples\n",
    "list_test = timeit.timeit(stmt = \"[1, 2, 3, 4, 5]\", number = 10000000)\n",
    "tuple_test = timeit.timeit(stmt = \"(1, 2, 3, 4, 5)\", number = 10000000)\n",
    "print(\"List time : \", list_test)\n",
    "print(\"Tuple time : \", tuple_test)"
   ]
  },
  {
   "cell_type": "markdown",
   "metadata": {},
   "source": [
    "##### Differences between lists and tuples:\n",
    "1. Lists takes more momory than tuples\n",
    "2. You can add, remove or change data in lists, while tuples cannot be changed\n",
    "3. Tuples can be made more quickly then lists\n",
    "4. Tuples are immutable (unable to change)"
   ]
  },
  {
   "cell_type": "code",
   "execution_count": 66,
   "metadata": {},
   "outputs": [
    {
     "name": "stdout",
     "output_type": "stream",
     "text": [
      "()\n",
      "a\n",
      "('a',)\n",
      "('a', 'b')\n",
      "('a', 'b', 'c')\n"
     ]
    }
   ],
   "source": [
    "# Empty tuple\n",
    "empty_tuple = ()\n",
    "# Tuple containing only one element is considered string\n",
    "test1 = (\"a\")\n",
    "# To make a tuple with one element\n",
    "test11 = (\"a\",)\n",
    "test2 = (\"a\", \"b\")\n",
    "test3 = (\"a\", \"b\", \"c\")\n",
    "print(empty_tuple)\n",
    "print(test1)\n",
    "print(test11)\n",
    "print(test2)\n",
    "print(test3)"
   ]
  },
  {
   "cell_type": "code",
   "execution_count": 67,
   "metadata": {},
   "outputs": [
    {
     "name": "stdout",
     "output_type": "stream",
     "text": [
      "(1,)\n",
      "(1, 2)\n",
      "(1, 2, 3)\n",
      "<class 'tuple'>\n",
      "<class 'tuple'>\n",
      "<class 'tuple'>\n"
     ]
    }
   ],
   "source": [
    "# Alternative for construction of tuples\n",
    "tt1 = 1,\n",
    "tt2 = 1, 2\n",
    "tt3 = 1, 2, 3\n",
    "print(tt1)\n",
    "print(tt2)\n",
    "print(tt3)\n",
    "print(type(tt1))\n",
    "print(type(tt2))\n",
    "print(type(tt3))"
   ]
  },
  {
   "cell_type": "code",
   "execution_count": 68,
   "metadata": {},
   "outputs": [
    {
     "name": "stdout",
     "output_type": "stream",
     "text": [
      "Age =  27\n",
      "Country =  Vietnam\n",
      "Knows Python? True\n"
     ]
    }
   ],
   "source": [
    "# Tuple with one element\n",
    "# (age, country, knows_python)\n",
    "survey = (27, \"Vietnam\", True)\n",
    "age = survey[0]\n",
    "country = survey[1]\n",
    "knows_python = survey[2]\n",
    "\n",
    "print(\"Age = \", age)\n",
    "print(\"Country = \", country)\n",
    "print(\"Knows Python?\", knows_python)"
   ]
  },
  {
   "cell_type": "code",
   "execution_count": 69,
   "metadata": {},
   "outputs": [
    {
     "name": "stdout",
     "output_type": "stream",
     "text": [
      "Age =  21\n",
      "Country =  Switzerland\n",
      "Knows_Python? False\n"
     ]
    }
   ],
   "source": [
    "survey2 = (21, \"Switzerland\", False)\n",
    "age, country, knows_python = survey2\n",
    "print(\"Age = \", age)\n",
    "print(\"Country = \", country)\n",
    "print(\"Knows_Python?\", knows_python)"
   ]
  },
  {
   "cell_type": "code",
   "execution_count": 70,
   "metadata": {},
   "outputs": [
    {
     "name": "stdout",
     "output_type": "stream",
     "text": [
      "('Australia',)\n"
     ]
    }
   ],
   "source": [
    "country = (\"Australia\",)\n",
    "print(country)"
   ]
  },
  {
   "cell_type": "markdown",
   "metadata": {},
   "source": [
    "<li>Number of variable should be equal to number of values</li>"
   ]
  },
  {
   "cell_type": "markdown",
   "metadata": {},
   "source": [
    "#### Logging\n",
    "<br>\n",
    "<li> logging module in python gives Progress Reports of the code </li>\n",
    "<li> Purpose: Record Progress and problems ... </li>\n",
    "<li> Levels : Debug, Info, Warning, Error and Critical </li>"
   ]
  },
  {
   "cell_type": "code",
   "execution_count": 8,
   "metadata": {},
   "outputs": [
    {
     "name": "stdout",
     "output_type": "stream",
     "text": [
      "['BASIC_FORMAT', 'BufferingFormatter', 'CRITICAL', 'DEBUG', 'ERROR', 'FATAL', 'FileHandler', 'Filter', 'Filterer', 'Formatter', 'Handler', 'INFO', 'LogRecord', 'Logger', 'LoggerAdapter', 'Manager', 'NOTSET', 'NullHandler', 'PercentStyle', 'PlaceHolder', 'RootLogger', 'StrFormatStyle', 'StreamHandler', 'StringTemplateStyle', 'Template', 'WARN', 'WARNING', '_STYLES', '_StderrHandler', '__all__', '__author__', '__builtins__', '__cached__', '__date__', '__doc__', '__file__', '__loader__', '__name__', '__package__', '__path__', '__spec__', '__status__', '__version__', '_acquireLock', '_addHandlerRef', '_checkLevel', '_defaultFormatter', '_defaultLastResort', '_handlerList', '_handlers', '_levelToName', '_lock', '_logRecordFactory', '_loggerClass', '_nameToLevel', '_releaseLock', '_removeHandlerRef', '_showwarning', '_srcfile', '_startTime', '_warnings_showwarning', 'addLevelName', 'atexit', 'basicConfig', 'captureWarnings', 'collections', 'critical', 'currentframe', 'debug', 'disable', 'error', 'exception', 'fatal', 'getLevelName', 'getLogRecordFactory', 'getLogger', 'getLoggerClass', 'handlers', 'info', 'io', 'lastResort', 'log', 'logMultiprocessing', 'logProcesses', 'logThreads', 'makeLogRecord', 'os', 'raiseExceptions', 'root', 'setLogRecordFactory', 'setLoggerClass', 'shutdown', 'sys', 'threading', 'time', 'traceback', 'warn', 'warning', 'warnings', 'weakref']\n"
     ]
    }
   ],
   "source": [
    "import logging\n",
    "\n",
    "print(dir(logging))"
   ]
  },
  {
   "cell_type": "code",
   "execution_count": 9,
   "metadata": {},
   "outputs": [],
   "source": [
    "# Create and Configure logger\n",
    "# To fix this we need to update basic config call and set level to DEBUG.\n",
    "\n",
    "# Changing the format of the log\n",
    "LOG_FORMAT = \"%(levelname)s %(asctime)s - %(message)s\"\n",
    "# To override the file every time change the file mode to 'w'.\n",
    "logging.basicConfig(filename = \"./Log_example.log\",\n",
    "\tlevel = logging.DEBUG,\n",
    "\tformat = LOG_FORMAT,\n",
    "\tfilemode = 'w')\n",
    "# Create logger object and call getLogger()\n",
    "# Logger without the name is called root logger\n",
    "logger = logging.getLogger()"
   ]
  },
  {
   "cell_type": "code",
   "execution_count": 10,
   "metadata": {},
   "outputs": [],
   "source": [
    "# Test the logger\n",
    "logger.info(\"Our Second Message\")"
   ]
  },
  {
   "cell_type": "code",
   "execution_count": 11,
   "metadata": {},
   "outputs": [
    {
     "name": "stdout",
     "output_type": "stream",
     "text": [
      "10\n"
     ]
    }
   ],
   "source": [
    "\"\"\"\n",
    "What does this logger level means:\n",
    "\n",
    "Level \t\t\tNumeric Value\n",
    "------------------------------\n",
    "NOTSET\t\t\t0\n",
    "DEBUG \t\t\t10\n",
    "INFO \t\t\t20\n",
    "WARNING \t\t30\n",
    "ERROR \t\t\t40\n",
    "CRITICAL \t\t50\n",
    "------------------------------\n",
    "\n",
    "Loggers only write the value greater than or equal to set level.\n",
    "No value is written in the log file as the default value of root logger is 30.\n",
    "\n",
    "\"\"\"\n",
    "\n",
    "# Get the level of the logger\n",
    "print(logger.level)"
   ]
  },
  {
   "cell_type": "code",
   "execution_count": 12,
   "metadata": {},
   "outputs": [],
   "source": [
    "# Creating logger message wit/h all five levels\n",
    "logger.debug(\"This is a harmless debug message.\")\n",
    "logger.info(\"Just some useful info.\")\n",
    "logger.warning(\"I'm sorry, but I can't do that, Jimmy.\")\n",
    "logger.error(\"Did you just try to divide by zero?\")\n",
    "logger.critical(\"The entire internet is down!!\")"
   ]
  },
  {
   "cell_type": "markdown",
   "metadata": {},
   "source": [
    "##### Example for Logging"
   ]
  },
  {
   "cell_type": "code",
   "execution_count": 13,
   "metadata": {},
   "outputs": [],
   "source": [
    "import math\n",
    "\n",
    "def quadratic_formula(a, b, c):\n",
    "\t\"\"\"Returns the solution to the quadratic equations ax^2 + bx + c = 0.\"\"\"\n",
    "\tlogger.info(\"quadratic_formula({0}, {1}, {2})\".format(a, b, c))\n",
    "\n",
    "\t# Compute the discriminant\n",
    "\tlogger.debug(\"# Compute the discriminant\")\n",
    "\tdisc = b**2 - 4*a*c\n",
    "\n",
    "\t# Compute the two roots\n",
    "\tlogger.debug(\"# Compute the two roots\")\n",
    "\troot1 = (-b + math.sqrt(disc)) / (2*a)\n",
    "\troot2 = (-b - math.sqrt(disc)) / (2*a)\n",
    "\n",
    "\t# Return the roots\n",
    "\tlogger.debug(\"# Return the roots\")\n",
    "\treturn (root1, root2)"
   ]
  },
  {
   "cell_type": "code",
   "execution_count": 14,
   "metadata": {},
   "outputs": [
    {
     "name": "stdout",
     "output_type": "stream",
     "text": [
      "(2.0, -2.0)\n"
     ]
    }
   ],
   "source": [
    "roots = quadratic_formula(1, 0, -4)\n",
    "print(roots)"
   ]
  },
  {
   "cell_type": "code",
   "execution_count": 15,
   "metadata": {},
   "outputs": [
    {
     "name": "stdout",
     "output_type": "stream",
     "text": [
      "INFO 2019-02-08 14:52:15,552 - Our Second Message\n",
      "DEBUG 2019-02-08 14:52:28,230 - This is a harmless debug message.\n",
      "INFO 2019-02-08 14:52:28,230 - Just some useful info.\n",
      "WARNING 2019-02-08 14:52:28,230 - I'm sorry, but I can't do that, Jimmy.\n",
      "ERROR 2019-02-08 14:52:28,230 - Did you just try to divide by zero?\n",
      "CRITICAL 2019-02-08 14:52:28,230 - The entire internet is down!!\n",
      "INFO 2019-02-08 14:52:50,662 - quadratic_formula(1, 0, -4)\n",
      "DEBUG 2019-02-08 14:52:50,662 - # Compute the discriminant\n",
      "DEBUG 2019-02-08 14:52:50,663 - # Compute the two roots\n",
      "DEBUG 2019-02-08 14:52:50,663 - # Return the roots\n",
      "\n"
     ]
    }
   ],
   "source": [
    "import os\n",
    "location = './'\n",
    "for filename in os.listdir(location):\n",
    "    if filename == 'Log_example.log':\n",
    "       f  = open('Log_example.log', \"r\")\n",
    "       print (f.read())\n",
    "        \n",
    "# The number after comma after time is millisecond portion of the time"
   ]
  },
  {
   "cell_type": "markdown",
   "metadata": {},
   "source": [
    "### Recursion, Fibinacci Sequence and Memoization"
   ]
  },
  {
   "cell_type": "code",
   "execution_count": 34,
   "metadata": {},
   "outputs": [],
   "source": [
    "def fibonacci(n):\n",
    "\t# Check if the input is an integer\n",
    "\tif type(n) != int:\n",
    "\t\traise TypeError(\"n must be a positive integer\")\n",
    "\tif n < 1:\n",
    "\t\traise ValueError(\"n must be a positive integer\")\n",
    "\n",
    "\n",
    "\tif n == 1:\n",
    "\t\treturn 1\n",
    "\telif n == 2:\n",
    "\t\treturn 1\n",
    "\telif n > 2:\n",
    "\t\treturn fibonacci(n-1) + fibonacci(n-2)"
   ]
  },
  {
   "cell_type": "code",
   "execution_count": 35,
   "metadata": {
    "scrolled": true
   },
   "outputs": [
    {
     "name": "stdout",
     "output_type": "stream",
     "text": [
      "1  :  1\n",
      "2  :  1\n",
      "3  :  2\n",
      "4  :  3\n",
      "5  :  5\n",
      "6  :  8\n",
      "7  :  13\n",
      "8  :  21\n",
      "9  :  34\n",
      "10  :  55\n",
      "11  :  89\n",
      "12  :  144\n",
      "13  :  233\n",
      "14  :  377\n",
      "15  :  610\n",
      "16  :  987\n",
      "17  :  1597\n",
      "18  :  2584\n",
      "19  :  4181\n",
      "20  :  6765\n",
      "21  :  10946\n",
      "22  :  17711\n",
      "23  :  28657\n",
      "24  :  46368\n",
      "25  :  75025\n",
      "26  :  121393\n",
      "27  :  196418\n",
      "28  :  317811\n",
      "29  :  514229\n",
      "30  :  832040\n",
      "31  :  1346269\n",
      "32  :  2178309\n",
      "33  :  3524578\n",
      "34  :  5702887\n"
     ]
    },
    {
     "ename": "KeyboardInterrupt",
     "evalue": "",
     "output_type": "error",
     "traceback": [
      "\u001b[0;31m---------------------------------------------------------------------------\u001b[0m",
      "\u001b[0;31mKeyboardInterrupt\u001b[0m                         Traceback (most recent call last)",
      "\u001b[0;32m<ipython-input-35-2140da9264fd>\u001b[0m in \u001b[0;36m<module>\u001b[0;34m()\u001b[0m\n\u001b[1;32m      2\u001b[0m \u001b[0;34m\u001b[0m\u001b[0m\n\u001b[1;32m      3\u001b[0m \u001b[0;32mfor\u001b[0m \u001b[0mi\u001b[0m \u001b[0;32min\u001b[0m \u001b[0mrange\u001b[0m\u001b[0;34m(\u001b[0m\u001b[0;36m1\u001b[0m\u001b[0;34m,\u001b[0m \u001b[0;36m50\u001b[0m\u001b[0;34m)\u001b[0m\u001b[0;34m:\u001b[0m\u001b[0;34m\u001b[0m\u001b[0m\n\u001b[0;32m----> 4\u001b[0;31m         \u001b[0mprint\u001b[0m\u001b[0;34m(\u001b[0m\u001b[0mi\u001b[0m\u001b[0;34m,\u001b[0m \u001b[0;34m\" : \"\u001b[0m\u001b[0;34m,\u001b[0m \u001b[0mfibonacci\u001b[0m\u001b[0;34m(\u001b[0m\u001b[0mi\u001b[0m\u001b[0;34m)\u001b[0m\u001b[0;34m)\u001b[0m\u001b[0;34m\u001b[0m\u001b[0m\n\u001b[0m",
      "\u001b[0;32m<ipython-input-34-8bde24704f9c>\u001b[0m in \u001b[0;36mfibonacci\u001b[0;34m(n)\u001b[0m\n\u001b[1;32m     12\u001b[0m                 \u001b[0;32mreturn\u001b[0m \u001b[0;36m1\u001b[0m\u001b[0;34m\u001b[0m\u001b[0m\n\u001b[1;32m     13\u001b[0m         \u001b[0;32melif\u001b[0m \u001b[0mn\u001b[0m \u001b[0;34m>\u001b[0m \u001b[0;36m2\u001b[0m\u001b[0;34m:\u001b[0m\u001b[0;34m\u001b[0m\u001b[0m\n\u001b[0;32m---> 14\u001b[0;31m                 \u001b[0;32mreturn\u001b[0m \u001b[0mfibonacci\u001b[0m\u001b[0;34m(\u001b[0m\u001b[0mn\u001b[0m\u001b[0;34m-\u001b[0m\u001b[0;36m1\u001b[0m\u001b[0;34m)\u001b[0m \u001b[0;34m+\u001b[0m \u001b[0mfibonacci\u001b[0m\u001b[0;34m(\u001b[0m\u001b[0mn\u001b[0m\u001b[0;34m-\u001b[0m\u001b[0;36m2\u001b[0m\u001b[0;34m)\u001b[0m\u001b[0;34m\u001b[0m\u001b[0m\n\u001b[0m",
      "\u001b[0;32m<ipython-input-34-8bde24704f9c>\u001b[0m in \u001b[0;36mfibonacci\u001b[0;34m(n)\u001b[0m\n\u001b[1;32m     12\u001b[0m                 \u001b[0;32mreturn\u001b[0m \u001b[0;36m1\u001b[0m\u001b[0;34m\u001b[0m\u001b[0m\n\u001b[1;32m     13\u001b[0m         \u001b[0;32melif\u001b[0m \u001b[0mn\u001b[0m \u001b[0;34m>\u001b[0m \u001b[0;36m2\u001b[0m\u001b[0;34m:\u001b[0m\u001b[0;34m\u001b[0m\u001b[0m\n\u001b[0;32m---> 14\u001b[0;31m                 \u001b[0;32mreturn\u001b[0m \u001b[0mfibonacci\u001b[0m\u001b[0;34m(\u001b[0m\u001b[0mn\u001b[0m\u001b[0;34m-\u001b[0m\u001b[0;36m1\u001b[0m\u001b[0;34m)\u001b[0m \u001b[0;34m+\u001b[0m \u001b[0mfibonacci\u001b[0m\u001b[0;34m(\u001b[0m\u001b[0mn\u001b[0m\u001b[0;34m-\u001b[0m\u001b[0;36m2\u001b[0m\u001b[0;34m)\u001b[0m\u001b[0;34m\u001b[0m\u001b[0m\n\u001b[0m",
      "\u001b[0;32m<ipython-input-34-8bde24704f9c>\u001b[0m in \u001b[0;36mfibonacci\u001b[0;34m(n)\u001b[0m\n\u001b[1;32m     12\u001b[0m                 \u001b[0;32mreturn\u001b[0m \u001b[0;36m1\u001b[0m\u001b[0;34m\u001b[0m\u001b[0m\n\u001b[1;32m     13\u001b[0m         \u001b[0;32melif\u001b[0m \u001b[0mn\u001b[0m \u001b[0;34m>\u001b[0m \u001b[0;36m2\u001b[0m\u001b[0;34m:\u001b[0m\u001b[0;34m\u001b[0m\u001b[0m\n\u001b[0;32m---> 14\u001b[0;31m                 \u001b[0;32mreturn\u001b[0m \u001b[0mfibonacci\u001b[0m\u001b[0;34m(\u001b[0m\u001b[0mn\u001b[0m\u001b[0;34m-\u001b[0m\u001b[0;36m1\u001b[0m\u001b[0;34m)\u001b[0m \u001b[0;34m+\u001b[0m \u001b[0mfibonacci\u001b[0m\u001b[0;34m(\u001b[0m\u001b[0mn\u001b[0m\u001b[0;34m-\u001b[0m\u001b[0;36m2\u001b[0m\u001b[0;34m)\u001b[0m\u001b[0;34m\u001b[0m\u001b[0m\n\u001b[0m",
      "\u001b[0;32m<ipython-input-34-8bde24704f9c>\u001b[0m in \u001b[0;36mfibonacci\u001b[0;34m(n)\u001b[0m\n\u001b[1;32m     12\u001b[0m                 \u001b[0;32mreturn\u001b[0m \u001b[0;36m1\u001b[0m\u001b[0;34m\u001b[0m\u001b[0m\n\u001b[1;32m     13\u001b[0m         \u001b[0;32melif\u001b[0m \u001b[0mn\u001b[0m \u001b[0;34m>\u001b[0m \u001b[0;36m2\u001b[0m\u001b[0;34m:\u001b[0m\u001b[0;34m\u001b[0m\u001b[0m\n\u001b[0;32m---> 14\u001b[0;31m                 \u001b[0;32mreturn\u001b[0m \u001b[0mfibonacci\u001b[0m\u001b[0;34m(\u001b[0m\u001b[0mn\u001b[0m\u001b[0;34m-\u001b[0m\u001b[0;36m1\u001b[0m\u001b[0;34m)\u001b[0m \u001b[0;34m+\u001b[0m \u001b[0mfibonacci\u001b[0m\u001b[0;34m(\u001b[0m\u001b[0mn\u001b[0m\u001b[0;34m-\u001b[0m\u001b[0;36m2\u001b[0m\u001b[0;34m)\u001b[0m\u001b[0;34m\u001b[0m\u001b[0m\n\u001b[0m",
      "\u001b[0;32m<ipython-input-34-8bde24704f9c>\u001b[0m in \u001b[0;36mfibonacci\u001b[0;34m(n)\u001b[0m\n\u001b[1;32m     12\u001b[0m                 \u001b[0;32mreturn\u001b[0m \u001b[0;36m1\u001b[0m\u001b[0;34m\u001b[0m\u001b[0m\n\u001b[1;32m     13\u001b[0m         \u001b[0;32melif\u001b[0m \u001b[0mn\u001b[0m \u001b[0;34m>\u001b[0m \u001b[0;36m2\u001b[0m\u001b[0;34m:\u001b[0m\u001b[0;34m\u001b[0m\u001b[0m\n\u001b[0;32m---> 14\u001b[0;31m                 \u001b[0;32mreturn\u001b[0m \u001b[0mfibonacci\u001b[0m\u001b[0;34m(\u001b[0m\u001b[0mn\u001b[0m\u001b[0;34m-\u001b[0m\u001b[0;36m1\u001b[0m\u001b[0;34m)\u001b[0m \u001b[0;34m+\u001b[0m \u001b[0mfibonacci\u001b[0m\u001b[0;34m(\u001b[0m\u001b[0mn\u001b[0m\u001b[0;34m-\u001b[0m\u001b[0;36m2\u001b[0m\u001b[0;34m)\u001b[0m\u001b[0;34m\u001b[0m\u001b[0m\n\u001b[0m",
      "\u001b[0;32m<ipython-input-34-8bde24704f9c>\u001b[0m in \u001b[0;36mfibonacci\u001b[0;34m(n)\u001b[0m\n\u001b[1;32m     12\u001b[0m                 \u001b[0;32mreturn\u001b[0m \u001b[0;36m1\u001b[0m\u001b[0;34m\u001b[0m\u001b[0m\n\u001b[1;32m     13\u001b[0m         \u001b[0;32melif\u001b[0m \u001b[0mn\u001b[0m \u001b[0;34m>\u001b[0m \u001b[0;36m2\u001b[0m\u001b[0;34m:\u001b[0m\u001b[0;34m\u001b[0m\u001b[0m\n\u001b[0;32m---> 14\u001b[0;31m                 \u001b[0;32mreturn\u001b[0m \u001b[0mfibonacci\u001b[0m\u001b[0;34m(\u001b[0m\u001b[0mn\u001b[0m\u001b[0;34m-\u001b[0m\u001b[0;36m1\u001b[0m\u001b[0;34m)\u001b[0m \u001b[0;34m+\u001b[0m \u001b[0mfibonacci\u001b[0m\u001b[0;34m(\u001b[0m\u001b[0mn\u001b[0m\u001b[0;34m-\u001b[0m\u001b[0;36m2\u001b[0m\u001b[0;34m)\u001b[0m\u001b[0;34m\u001b[0m\u001b[0m\n\u001b[0m",
      "\u001b[0;32m<ipython-input-34-8bde24704f9c>\u001b[0m in \u001b[0;36mfibonacci\u001b[0;34m(n)\u001b[0m\n\u001b[1;32m     12\u001b[0m                 \u001b[0;32mreturn\u001b[0m \u001b[0;36m1\u001b[0m\u001b[0;34m\u001b[0m\u001b[0m\n\u001b[1;32m     13\u001b[0m         \u001b[0;32melif\u001b[0m \u001b[0mn\u001b[0m \u001b[0;34m>\u001b[0m \u001b[0;36m2\u001b[0m\u001b[0;34m:\u001b[0m\u001b[0;34m\u001b[0m\u001b[0m\n\u001b[0;32m---> 14\u001b[0;31m                 \u001b[0;32mreturn\u001b[0m \u001b[0mfibonacci\u001b[0m\u001b[0;34m(\u001b[0m\u001b[0mn\u001b[0m\u001b[0;34m-\u001b[0m\u001b[0;36m1\u001b[0m\u001b[0;34m)\u001b[0m \u001b[0;34m+\u001b[0m \u001b[0mfibonacci\u001b[0m\u001b[0;34m(\u001b[0m\u001b[0mn\u001b[0m\u001b[0;34m-\u001b[0m\u001b[0;36m2\u001b[0m\u001b[0;34m)\u001b[0m\u001b[0;34m\u001b[0m\u001b[0m\n\u001b[0m",
      "\u001b[0;32m<ipython-input-34-8bde24704f9c>\u001b[0m in \u001b[0;36mfibonacci\u001b[0;34m(n)\u001b[0m\n\u001b[1;32m     12\u001b[0m                 \u001b[0;32mreturn\u001b[0m \u001b[0;36m1\u001b[0m\u001b[0;34m\u001b[0m\u001b[0m\n\u001b[1;32m     13\u001b[0m         \u001b[0;32melif\u001b[0m \u001b[0mn\u001b[0m \u001b[0;34m>\u001b[0m \u001b[0;36m2\u001b[0m\u001b[0;34m:\u001b[0m\u001b[0;34m\u001b[0m\u001b[0m\n\u001b[0;32m---> 14\u001b[0;31m                 \u001b[0;32mreturn\u001b[0m \u001b[0mfibonacci\u001b[0m\u001b[0;34m(\u001b[0m\u001b[0mn\u001b[0m\u001b[0;34m-\u001b[0m\u001b[0;36m1\u001b[0m\u001b[0;34m)\u001b[0m \u001b[0;34m+\u001b[0m \u001b[0mfibonacci\u001b[0m\u001b[0;34m(\u001b[0m\u001b[0mn\u001b[0m\u001b[0;34m-\u001b[0m\u001b[0;36m2\u001b[0m\u001b[0;34m)\u001b[0m\u001b[0;34m\u001b[0m\u001b[0m\n\u001b[0m",
      "\u001b[0;32m<ipython-input-34-8bde24704f9c>\u001b[0m in \u001b[0;36mfibonacci\u001b[0;34m(n)\u001b[0m\n\u001b[1;32m     12\u001b[0m                 \u001b[0;32mreturn\u001b[0m \u001b[0;36m1\u001b[0m\u001b[0;34m\u001b[0m\u001b[0m\n\u001b[1;32m     13\u001b[0m         \u001b[0;32melif\u001b[0m \u001b[0mn\u001b[0m \u001b[0;34m>\u001b[0m \u001b[0;36m2\u001b[0m\u001b[0;34m:\u001b[0m\u001b[0;34m\u001b[0m\u001b[0m\n\u001b[0;32m---> 14\u001b[0;31m                 \u001b[0;32mreturn\u001b[0m \u001b[0mfibonacci\u001b[0m\u001b[0;34m(\u001b[0m\u001b[0mn\u001b[0m\u001b[0;34m-\u001b[0m\u001b[0;36m1\u001b[0m\u001b[0;34m)\u001b[0m \u001b[0;34m+\u001b[0m \u001b[0mfibonacci\u001b[0m\u001b[0;34m(\u001b[0m\u001b[0mn\u001b[0m\u001b[0;34m-\u001b[0m\u001b[0;36m2\u001b[0m\u001b[0;34m)\u001b[0m\u001b[0;34m\u001b[0m\u001b[0m\n\u001b[0m",
      "\u001b[0;32m<ipython-input-34-8bde24704f9c>\u001b[0m in \u001b[0;36mfibonacci\u001b[0;34m(n)\u001b[0m\n\u001b[1;32m     12\u001b[0m                 \u001b[0;32mreturn\u001b[0m \u001b[0;36m1\u001b[0m\u001b[0;34m\u001b[0m\u001b[0m\n\u001b[1;32m     13\u001b[0m         \u001b[0;32melif\u001b[0m \u001b[0mn\u001b[0m \u001b[0;34m>\u001b[0m \u001b[0;36m2\u001b[0m\u001b[0;34m:\u001b[0m\u001b[0;34m\u001b[0m\u001b[0m\n\u001b[0;32m---> 14\u001b[0;31m                 \u001b[0;32mreturn\u001b[0m \u001b[0mfibonacci\u001b[0m\u001b[0;34m(\u001b[0m\u001b[0mn\u001b[0m\u001b[0;34m-\u001b[0m\u001b[0;36m1\u001b[0m\u001b[0;34m)\u001b[0m \u001b[0;34m+\u001b[0m \u001b[0mfibonacci\u001b[0m\u001b[0;34m(\u001b[0m\u001b[0mn\u001b[0m\u001b[0;34m-\u001b[0m\u001b[0;36m2\u001b[0m\u001b[0;34m)\u001b[0m\u001b[0;34m\u001b[0m\u001b[0m\n\u001b[0m",
      "\u001b[0;32m<ipython-input-34-8bde24704f9c>\u001b[0m in \u001b[0;36mfibonacci\u001b[0;34m(n)\u001b[0m\n\u001b[1;32m     12\u001b[0m                 \u001b[0;32mreturn\u001b[0m \u001b[0;36m1\u001b[0m\u001b[0;34m\u001b[0m\u001b[0m\n\u001b[1;32m     13\u001b[0m         \u001b[0;32melif\u001b[0m \u001b[0mn\u001b[0m \u001b[0;34m>\u001b[0m \u001b[0;36m2\u001b[0m\u001b[0;34m:\u001b[0m\u001b[0;34m\u001b[0m\u001b[0m\n\u001b[0;32m---> 14\u001b[0;31m                 \u001b[0;32mreturn\u001b[0m \u001b[0mfibonacci\u001b[0m\u001b[0;34m(\u001b[0m\u001b[0mn\u001b[0m\u001b[0;34m-\u001b[0m\u001b[0;36m1\u001b[0m\u001b[0;34m)\u001b[0m \u001b[0;34m+\u001b[0m \u001b[0mfibonacci\u001b[0m\u001b[0;34m(\u001b[0m\u001b[0mn\u001b[0m\u001b[0;34m-\u001b[0m\u001b[0;36m2\u001b[0m\u001b[0;34m)\u001b[0m\u001b[0;34m\u001b[0m\u001b[0m\n\u001b[0m",
      "\u001b[0;32m<ipython-input-34-8bde24704f9c>\u001b[0m in \u001b[0;36mfibonacci\u001b[0;34m(n)\u001b[0m\n\u001b[1;32m     12\u001b[0m                 \u001b[0;32mreturn\u001b[0m \u001b[0;36m1\u001b[0m\u001b[0;34m\u001b[0m\u001b[0m\n\u001b[1;32m     13\u001b[0m         \u001b[0;32melif\u001b[0m \u001b[0mn\u001b[0m \u001b[0;34m>\u001b[0m \u001b[0;36m2\u001b[0m\u001b[0;34m:\u001b[0m\u001b[0;34m\u001b[0m\u001b[0m\n\u001b[0;32m---> 14\u001b[0;31m                 \u001b[0;32mreturn\u001b[0m \u001b[0mfibonacci\u001b[0m\u001b[0;34m(\u001b[0m\u001b[0mn\u001b[0m\u001b[0;34m-\u001b[0m\u001b[0;36m1\u001b[0m\u001b[0;34m)\u001b[0m \u001b[0;34m+\u001b[0m \u001b[0mfibonacci\u001b[0m\u001b[0;34m(\u001b[0m\u001b[0mn\u001b[0m\u001b[0;34m-\u001b[0m\u001b[0;36m2\u001b[0m\u001b[0;34m)\u001b[0m\u001b[0;34m\u001b[0m\u001b[0m\n\u001b[0m",
      "\u001b[0;32m<ipython-input-34-8bde24704f9c>\u001b[0m in \u001b[0;36mfibonacci\u001b[0;34m(n)\u001b[0m\n\u001b[1;32m     12\u001b[0m                 \u001b[0;32mreturn\u001b[0m \u001b[0;36m1\u001b[0m\u001b[0;34m\u001b[0m\u001b[0m\n\u001b[1;32m     13\u001b[0m         \u001b[0;32melif\u001b[0m \u001b[0mn\u001b[0m \u001b[0;34m>\u001b[0m \u001b[0;36m2\u001b[0m\u001b[0;34m:\u001b[0m\u001b[0;34m\u001b[0m\u001b[0m\n\u001b[0;32m---> 14\u001b[0;31m                 \u001b[0;32mreturn\u001b[0m \u001b[0mfibonacci\u001b[0m\u001b[0;34m(\u001b[0m\u001b[0mn\u001b[0m\u001b[0;34m-\u001b[0m\u001b[0;36m1\u001b[0m\u001b[0;34m)\u001b[0m \u001b[0;34m+\u001b[0m \u001b[0mfibonacci\u001b[0m\u001b[0;34m(\u001b[0m\u001b[0mn\u001b[0m\u001b[0;34m-\u001b[0m\u001b[0;36m2\u001b[0m\u001b[0;34m)\u001b[0m\u001b[0;34m\u001b[0m\u001b[0m\n\u001b[0m",
      "\u001b[0;32m<ipython-input-34-8bde24704f9c>\u001b[0m in \u001b[0;36mfibonacci\u001b[0;34m(n)\u001b[0m\n\u001b[1;32m     12\u001b[0m                 \u001b[0;32mreturn\u001b[0m \u001b[0;36m1\u001b[0m\u001b[0;34m\u001b[0m\u001b[0m\n\u001b[1;32m     13\u001b[0m         \u001b[0;32melif\u001b[0m \u001b[0mn\u001b[0m \u001b[0;34m>\u001b[0m \u001b[0;36m2\u001b[0m\u001b[0;34m:\u001b[0m\u001b[0;34m\u001b[0m\u001b[0m\n\u001b[0;32m---> 14\u001b[0;31m                 \u001b[0;32mreturn\u001b[0m \u001b[0mfibonacci\u001b[0m\u001b[0;34m(\u001b[0m\u001b[0mn\u001b[0m\u001b[0;34m-\u001b[0m\u001b[0;36m1\u001b[0m\u001b[0;34m)\u001b[0m \u001b[0;34m+\u001b[0m \u001b[0mfibonacci\u001b[0m\u001b[0;34m(\u001b[0m\u001b[0mn\u001b[0m\u001b[0;34m-\u001b[0m\u001b[0;36m2\u001b[0m\u001b[0;34m)\u001b[0m\u001b[0;34m\u001b[0m\u001b[0m\n\u001b[0m",
      "\u001b[0;32m<ipython-input-34-8bde24704f9c>\u001b[0m in \u001b[0;36mfibonacci\u001b[0;34m(n)\u001b[0m\n\u001b[1;32m     12\u001b[0m                 \u001b[0;32mreturn\u001b[0m \u001b[0;36m1\u001b[0m\u001b[0;34m\u001b[0m\u001b[0m\n\u001b[1;32m     13\u001b[0m         \u001b[0;32melif\u001b[0m \u001b[0mn\u001b[0m \u001b[0;34m>\u001b[0m \u001b[0;36m2\u001b[0m\u001b[0;34m:\u001b[0m\u001b[0;34m\u001b[0m\u001b[0m\n\u001b[0;32m---> 14\u001b[0;31m                 \u001b[0;32mreturn\u001b[0m \u001b[0mfibonacci\u001b[0m\u001b[0;34m(\u001b[0m\u001b[0mn\u001b[0m\u001b[0;34m-\u001b[0m\u001b[0;36m1\u001b[0m\u001b[0;34m)\u001b[0m \u001b[0;34m+\u001b[0m \u001b[0mfibonacci\u001b[0m\u001b[0;34m(\u001b[0m\u001b[0mn\u001b[0m\u001b[0;34m-\u001b[0m\u001b[0;36m2\u001b[0m\u001b[0;34m)\u001b[0m\u001b[0;34m\u001b[0m\u001b[0m\n\u001b[0m",
      "\u001b[0;32m<ipython-input-34-8bde24704f9c>\u001b[0m in \u001b[0;36mfibonacci\u001b[0;34m(n)\u001b[0m\n\u001b[1;32m     12\u001b[0m                 \u001b[0;32mreturn\u001b[0m \u001b[0;36m1\u001b[0m\u001b[0;34m\u001b[0m\u001b[0m\n\u001b[1;32m     13\u001b[0m         \u001b[0;32melif\u001b[0m \u001b[0mn\u001b[0m \u001b[0;34m>\u001b[0m \u001b[0;36m2\u001b[0m\u001b[0;34m:\u001b[0m\u001b[0;34m\u001b[0m\u001b[0m\n\u001b[0;32m---> 14\u001b[0;31m                 \u001b[0;32mreturn\u001b[0m \u001b[0mfibonacci\u001b[0m\u001b[0;34m(\u001b[0m\u001b[0mn\u001b[0m\u001b[0;34m-\u001b[0m\u001b[0;36m1\u001b[0m\u001b[0;34m)\u001b[0m \u001b[0;34m+\u001b[0m \u001b[0mfibonacci\u001b[0m\u001b[0;34m(\u001b[0m\u001b[0mn\u001b[0m\u001b[0;34m-\u001b[0m\u001b[0;36m2\u001b[0m\u001b[0;34m)\u001b[0m\u001b[0;34m\u001b[0m\u001b[0m\n\u001b[0m",
      "\u001b[0;32m<ipython-input-34-8bde24704f9c>\u001b[0m in \u001b[0;36mfibonacci\u001b[0;34m(n)\u001b[0m\n\u001b[1;32m     12\u001b[0m                 \u001b[0;32mreturn\u001b[0m \u001b[0;36m1\u001b[0m\u001b[0;34m\u001b[0m\u001b[0m\n\u001b[1;32m     13\u001b[0m         \u001b[0;32melif\u001b[0m \u001b[0mn\u001b[0m \u001b[0;34m>\u001b[0m \u001b[0;36m2\u001b[0m\u001b[0;34m:\u001b[0m\u001b[0;34m\u001b[0m\u001b[0m\n\u001b[0;32m---> 14\u001b[0;31m                 \u001b[0;32mreturn\u001b[0m \u001b[0mfibonacci\u001b[0m\u001b[0;34m(\u001b[0m\u001b[0mn\u001b[0m\u001b[0;34m-\u001b[0m\u001b[0;36m1\u001b[0m\u001b[0;34m)\u001b[0m \u001b[0;34m+\u001b[0m \u001b[0mfibonacci\u001b[0m\u001b[0;34m(\u001b[0m\u001b[0mn\u001b[0m\u001b[0;34m-\u001b[0m\u001b[0;36m2\u001b[0m\u001b[0;34m)\u001b[0m\u001b[0;34m\u001b[0m\u001b[0m\n\u001b[0m",
      "\u001b[0;32m<ipython-input-34-8bde24704f9c>\u001b[0m in \u001b[0;36mfibonacci\u001b[0;34m(n)\u001b[0m\n\u001b[1;32m     12\u001b[0m                 \u001b[0;32mreturn\u001b[0m \u001b[0;36m1\u001b[0m\u001b[0;34m\u001b[0m\u001b[0m\n\u001b[1;32m     13\u001b[0m         \u001b[0;32melif\u001b[0m \u001b[0mn\u001b[0m \u001b[0;34m>\u001b[0m \u001b[0;36m2\u001b[0m\u001b[0;34m:\u001b[0m\u001b[0;34m\u001b[0m\u001b[0m\n\u001b[0;32m---> 14\u001b[0;31m                 \u001b[0;32mreturn\u001b[0m \u001b[0mfibonacci\u001b[0m\u001b[0;34m(\u001b[0m\u001b[0mn\u001b[0m\u001b[0;34m-\u001b[0m\u001b[0;36m1\u001b[0m\u001b[0;34m)\u001b[0m \u001b[0;34m+\u001b[0m \u001b[0mfibonacci\u001b[0m\u001b[0;34m(\u001b[0m\u001b[0mn\u001b[0m\u001b[0;34m-\u001b[0m\u001b[0;36m2\u001b[0m\u001b[0;34m)\u001b[0m\u001b[0;34m\u001b[0m\u001b[0m\n\u001b[0m",
      "\u001b[0;32m<ipython-input-34-8bde24704f9c>\u001b[0m in \u001b[0;36mfibonacci\u001b[0;34m(n)\u001b[0m\n\u001b[1;32m     12\u001b[0m                 \u001b[0;32mreturn\u001b[0m \u001b[0;36m1\u001b[0m\u001b[0;34m\u001b[0m\u001b[0m\n\u001b[1;32m     13\u001b[0m         \u001b[0;32melif\u001b[0m \u001b[0mn\u001b[0m \u001b[0;34m>\u001b[0m \u001b[0;36m2\u001b[0m\u001b[0;34m:\u001b[0m\u001b[0;34m\u001b[0m\u001b[0m\n\u001b[0;32m---> 14\u001b[0;31m                 \u001b[0;32mreturn\u001b[0m \u001b[0mfibonacci\u001b[0m\u001b[0;34m(\u001b[0m\u001b[0mn\u001b[0m\u001b[0;34m-\u001b[0m\u001b[0;36m1\u001b[0m\u001b[0;34m)\u001b[0m \u001b[0;34m+\u001b[0m \u001b[0mfibonacci\u001b[0m\u001b[0;34m(\u001b[0m\u001b[0mn\u001b[0m\u001b[0;34m-\u001b[0m\u001b[0;36m2\u001b[0m\u001b[0;34m)\u001b[0m\u001b[0;34m\u001b[0m\u001b[0m\n\u001b[0m",
      "\u001b[0;32m<ipython-input-34-8bde24704f9c>\u001b[0m in \u001b[0;36mfibonacci\u001b[0;34m(n)\u001b[0m\n\u001b[1;32m     12\u001b[0m                 \u001b[0;32mreturn\u001b[0m \u001b[0;36m1\u001b[0m\u001b[0;34m\u001b[0m\u001b[0m\n\u001b[1;32m     13\u001b[0m         \u001b[0;32melif\u001b[0m \u001b[0mn\u001b[0m \u001b[0;34m>\u001b[0m \u001b[0;36m2\u001b[0m\u001b[0;34m:\u001b[0m\u001b[0;34m\u001b[0m\u001b[0m\n\u001b[0;32m---> 14\u001b[0;31m                 \u001b[0;32mreturn\u001b[0m \u001b[0mfibonacci\u001b[0m\u001b[0;34m(\u001b[0m\u001b[0mn\u001b[0m\u001b[0;34m-\u001b[0m\u001b[0;36m1\u001b[0m\u001b[0;34m)\u001b[0m \u001b[0;34m+\u001b[0m \u001b[0mfibonacci\u001b[0m\u001b[0;34m(\u001b[0m\u001b[0mn\u001b[0m\u001b[0;34m-\u001b[0m\u001b[0;36m2\u001b[0m\u001b[0;34m)\u001b[0m\u001b[0;34m\u001b[0m\u001b[0m\n\u001b[0m",
      "\u001b[0;32m<ipython-input-34-8bde24704f9c>\u001b[0m in \u001b[0;36mfibonacci\u001b[0;34m(n)\u001b[0m\n\u001b[1;32m     12\u001b[0m                 \u001b[0;32mreturn\u001b[0m \u001b[0;36m1\u001b[0m\u001b[0;34m\u001b[0m\u001b[0m\n\u001b[1;32m     13\u001b[0m         \u001b[0;32melif\u001b[0m \u001b[0mn\u001b[0m \u001b[0;34m>\u001b[0m \u001b[0;36m2\u001b[0m\u001b[0;34m:\u001b[0m\u001b[0;34m\u001b[0m\u001b[0m\n\u001b[0;32m---> 14\u001b[0;31m                 \u001b[0;32mreturn\u001b[0m \u001b[0mfibonacci\u001b[0m\u001b[0;34m(\u001b[0m\u001b[0mn\u001b[0m\u001b[0;34m-\u001b[0m\u001b[0;36m1\u001b[0m\u001b[0;34m)\u001b[0m \u001b[0;34m+\u001b[0m \u001b[0mfibonacci\u001b[0m\u001b[0;34m(\u001b[0m\u001b[0mn\u001b[0m\u001b[0;34m-\u001b[0m\u001b[0;36m2\u001b[0m\u001b[0;34m)\u001b[0m\u001b[0;34m\u001b[0m\u001b[0m\n\u001b[0m",
      "\u001b[0;32m<ipython-input-34-8bde24704f9c>\u001b[0m in \u001b[0;36mfibonacci\u001b[0;34m(n)\u001b[0m\n\u001b[1;32m     12\u001b[0m                 \u001b[0;32mreturn\u001b[0m \u001b[0;36m1\u001b[0m\u001b[0;34m\u001b[0m\u001b[0m\n\u001b[1;32m     13\u001b[0m         \u001b[0;32melif\u001b[0m \u001b[0mn\u001b[0m \u001b[0;34m>\u001b[0m \u001b[0;36m2\u001b[0m\u001b[0;34m:\u001b[0m\u001b[0;34m\u001b[0m\u001b[0m\n\u001b[0;32m---> 14\u001b[0;31m                 \u001b[0;32mreturn\u001b[0m \u001b[0mfibonacci\u001b[0m\u001b[0;34m(\u001b[0m\u001b[0mn\u001b[0m\u001b[0;34m-\u001b[0m\u001b[0;36m1\u001b[0m\u001b[0;34m)\u001b[0m \u001b[0;34m+\u001b[0m \u001b[0mfibonacci\u001b[0m\u001b[0;34m(\u001b[0m\u001b[0mn\u001b[0m\u001b[0;34m-\u001b[0m\u001b[0;36m2\u001b[0m\u001b[0;34m)\u001b[0m\u001b[0;34m\u001b[0m\u001b[0m\n\u001b[0m",
      "\u001b[0;32m<ipython-input-34-8bde24704f9c>\u001b[0m in \u001b[0;36mfibonacci\u001b[0;34m(n)\u001b[0m\n\u001b[1;32m     12\u001b[0m                 \u001b[0;32mreturn\u001b[0m \u001b[0;36m1\u001b[0m\u001b[0;34m\u001b[0m\u001b[0m\n\u001b[1;32m     13\u001b[0m         \u001b[0;32melif\u001b[0m \u001b[0mn\u001b[0m \u001b[0;34m>\u001b[0m \u001b[0;36m2\u001b[0m\u001b[0;34m:\u001b[0m\u001b[0;34m\u001b[0m\u001b[0m\n\u001b[0;32m---> 14\u001b[0;31m                 \u001b[0;32mreturn\u001b[0m \u001b[0mfibonacci\u001b[0m\u001b[0;34m(\u001b[0m\u001b[0mn\u001b[0m\u001b[0;34m-\u001b[0m\u001b[0;36m1\u001b[0m\u001b[0;34m)\u001b[0m \u001b[0;34m+\u001b[0m \u001b[0mfibonacci\u001b[0m\u001b[0;34m(\u001b[0m\u001b[0mn\u001b[0m\u001b[0;34m-\u001b[0m\u001b[0;36m2\u001b[0m\u001b[0;34m)\u001b[0m\u001b[0;34m\u001b[0m\u001b[0m\n\u001b[0m",
      "\u001b[0;32m<ipython-input-34-8bde24704f9c>\u001b[0m in \u001b[0;36mfibonacci\u001b[0;34m(n)\u001b[0m\n\u001b[1;32m      7\u001b[0m \u001b[0;34m\u001b[0m\u001b[0m\n\u001b[1;32m      8\u001b[0m \u001b[0;34m\u001b[0m\u001b[0m\n\u001b[0;32m----> 9\u001b[0;31m         \u001b[0;32mif\u001b[0m \u001b[0mn\u001b[0m \u001b[0;34m==\u001b[0m \u001b[0;36m1\u001b[0m\u001b[0;34m:\u001b[0m\u001b[0;34m\u001b[0m\u001b[0m\n\u001b[0m\u001b[1;32m     10\u001b[0m                 \u001b[0;32mreturn\u001b[0m \u001b[0;36m1\u001b[0m\u001b[0;34m\u001b[0m\u001b[0m\n\u001b[1;32m     11\u001b[0m         \u001b[0;32melif\u001b[0m \u001b[0mn\u001b[0m \u001b[0;34m==\u001b[0m \u001b[0;36m2\u001b[0m\u001b[0;34m:\u001b[0m\u001b[0;34m\u001b[0m\u001b[0m\n",
      "\u001b[0;31mKeyboardInterrupt\u001b[0m: "
     ]
    }
   ],
   "source": [
    "# This slow\n",
    "\n",
    "for i in range(1, 50):\n",
    "\tprint(i, \" : \", fibonacci(i))"
   ]
  },
  {
   "cell_type": "markdown",
   "metadata": {},
   "source": [
    "##### To make this faster use <u>Memoization</u>\n",
    "###### Idea: Cache values ---> Store the values for the recent function call so future calls do not have to repeat the work\n"
   ]
  },
  {
   "cell_type": "markdown",
   "metadata": {},
   "source": [
    "#### Implementation of Memoization can be done in several ways\n",
    "#### 1. Implement Explicitly\n"
   ]
  },
  {
   "cell_type": "code",
   "execution_count": 18,
   "metadata": {},
   "outputs": [],
   "source": [
    "# Create a dictionary called fibonacci cache\n",
    "fibonacci_cache = {}\n",
    "# Rewriting the function to make use of cache values\n",
    "def fibonacci2(n):\n",
    "\t# If we have cached the value, then return it\n",
    "\tif n in fibonacci_cache:\n",
    "\t\treturn fibonacci_cache[n]\n",
    "\n",
    "\t# Compute the Nth term\n",
    "\tif n == 1:\n",
    "\t\tvalue = 1\n",
    "\telif n == 2:\n",
    "\t\tvalue = 2\n",
    "\telif n > 2:\n",
    "\t\tvalue = fibonacci2(n - 1) + fibonacci2(n - 2)\n",
    "\n",
    "\t# Canhe the value and return it\n",
    "\tfibonacci_cache[n] = value\n",
    "\treturn value"
   ]
  },
  {
   "cell_type": "code",
   "execution_count": 19,
   "metadata": {
    "scrolled": true
   },
   "outputs": [
    {
     "name": "stdout",
     "output_type": "stream",
     "text": [
      "1  :  1\n",
      "2  :  2\n",
      "3  :  3\n",
      "4  :  5\n",
      "5  :  8\n",
      "6  :  13\n",
      "7  :  21\n",
      "8  :  34\n",
      "9  :  55\n",
      "10  :  89\n",
      "11  :  144\n",
      "12  :  233\n",
      "13  :  377\n",
      "14  :  610\n",
      "15  :  987\n",
      "16  :  1597\n",
      "17  :  2584\n",
      "18  :  4181\n",
      "19  :  6765\n",
      "20  :  10946\n",
      "21  :  17711\n",
      "22  :  28657\n",
      "23  :  46368\n",
      "24  :  75025\n",
      "25  :  121393\n",
      "26  :  196418\n",
      "27  :  317811\n",
      "28  :  514229\n",
      "29  :  832040\n",
      "30  :  1346269\n"
     ]
    }
   ],
   "source": [
    "for n in range(1, 31):\n",
    "\tprint(n , \" : \", fibonacci2(n))"
   ]
  },
  {
   "cell_type": "markdown",
   "metadata": {},
   "source": [
    "#### 2. Using built-in tools"
   ]
  },
  {
   "cell_type": "code",
   "execution_count": 104,
   "metadata": {},
   "outputs": [],
   "source": [
    "# import Least Recently used cache\n",
    "from functools import lru_cache\n",
    "\n",
    "@lru_cache(maxsize = 1000)\n",
    "def fibonacci3(n):\n",
    "\t# Check if the input is an integer\n",
    "\tif type(n) != int:\n",
    "\t\traise TypeError(\"n must be a positive integer\")\n",
    "\tif n < 1:\n",
    "\t\traise ValueError(\"n must be a positive integer\")\n",
    "\n",
    "\n",
    "\tif n == 1:\n",
    "\t\treturn 1\n",
    "\telif n == 2:\n",
    "\t\treturn 1\n",
    "\telif n > 2:\n",
    "\t\treturn fibonacci(n-1) + fibonacci(n-2)"
   ]
  },
  {
   "cell_type": "code",
   "execution_count": 105,
   "metadata": {
    "scrolled": true
   },
   "outputs": [
    {
     "name": "stdout",
     "output_type": "stream",
     "text": [
      "1  :  1\n",
      "2  :  1\n",
      "3  :  2\n",
      "4  :  3\n",
      "5  :  5\n",
      "6  :  8\n",
      "7  :  13\n",
      "8  :  21\n",
      "9  :  34\n",
      "10  :  55\n",
      "11  :  89\n",
      "12  :  144\n",
      "13  :  233\n",
      "14  :  377\n",
      "15  :  610\n",
      "16  :  987\n",
      "17  :  1597\n",
      "18  :  2584\n",
      "19  :  4181\n",
      "20  :  6765\n",
      "21  :  10946\n",
      "22  :  17711\n",
      "23  :  28657\n",
      "24  :  46368\n",
      "25  :  75025\n",
      "26  :  121393\n",
      "27  :  196418\n",
      "28  :  317811\n",
      "29  :  514229\n",
      "30  :  832040\n"
     ]
    }
   ],
   "source": [
    "for i in range(1, 31):\n",
    "\tprint(i, \" : \", fibonacci3(i))"
   ]
  },
  {
   "cell_type": "markdown",
   "metadata": {},
   "source": [
    "#### Random Number Generator\n",
    "\n",
    "<p style=\"color:red;\">\n",
    " WARNING: The pseudo-random generators of this module should not be used for\n",
    "\tsecurity purposes. Use os.urandom() or SystemRandom if you require a cryptographically\n",
    "\tsecure pseudo-random generator.\n",
    "</p>"
   ]
  },
  {
   "cell_type": "code",
   "execution_count": 107,
   "metadata": {},
   "outputs": [
    {
     "name": "stdout",
     "output_type": "stream",
     "text": [
      "0.03105817649777798\n",
      "0.5222125120387405\n",
      "0.6630708112162361\n",
      "0.7039406552917004\n",
      "0.7373647312464238\n",
      "0.9287269012591494\n",
      "0.6453285514089452\n",
      "0.366462196153734\n",
      "0.1744825024676444\n",
      "0.05508612884773967\n"
     ]
    }
   ],
   "source": [
    "import random\n",
    "\n",
    "# Display 10 random numbers from interval [0, 1)\n",
    "for i in range(10):\n",
    "\tprint(random.random())"
   ]
  },
  {
   "cell_type": "code",
   "execution_count": 108,
   "metadata": {},
   "outputs": [
    {
     "name": "stdout",
     "output_type": "stream",
     "text": [
      "3.220624131039197\n",
      "6.4109627128681215\n",
      "3.470562406721209\n",
      "4.454433324097832\n",
      "6.6901054928969685\n",
      "4.602889744528509\n",
      "3.093318843338757\n",
      "4.507150584240801\n",
      "5.417477205804376\n",
      "3.894656007384867\n"
     ]
    }
   ],
   "source": [
    "# Generate random numbers from interval [3, 7)\n",
    "\"\"\"\n",
    "Several ways of doing this\n",
    "call random(): \t\t\t\t\t# in [0,1)\n",
    "scale number (multiply by 4): \t# in [0,4) (as difference between 7 and 3 is 4)\n",
    "Shift number (add 3):\t\t\t# in [3,7)\n",
    "\n",
    "Reason for doing this to show random() function can be used to build\n",
    "customized random number generator.\n",
    "\"\"\"\n",
    "def my_random():\n",
    "\t# Random, scale, shift, return ...\n",
    "\treturn 4*random.random() + 3\n",
    "\n",
    "for i in range(10):\n",
    "\tprint(my_random())"
   ]
  },
  {
   "cell_type": "code",
   "execution_count": 109,
   "metadata": {},
   "outputs": [
    {
     "name": "stdout",
     "output_type": "stream",
     "text": [
      "5.84408285714529\n",
      "6.469141831457926\n",
      "5.621257281866029\n",
      "3.876356217730541\n",
      "5.0743434152538605\n",
      "4.373127760905087\n",
      "4.611349215692316\n",
      "5.828731821634363\n",
      "5.913455587938984\n",
      "4.220903104151846\n"
     ]
    }
   ],
   "source": [
    "\"\"\"\n",
    "Easier way to generate random number within specific range is \n",
    "using uniform() available in random module\n",
    "\"\"\"\n",
    "for i in range(10):\n",
    "\tprint(random.uniform(3,7))\n",
    "\n",
    "\n",
    "# random() and uniform() are both uniform distributions."
   ]
  },
  {
   "cell_type": "code",
   "execution_count": 110,
   "metadata": {},
   "outputs": [
    {
     "name": "stdout",
     "output_type": "stream",
     "text": [
      "0.1544326762245482\n",
      "-0.15363169094948506\n",
      "-1.0288554259620473\n",
      "-0.8945491445032854\n",
      "-0.19419257603681375\n",
      "0.4178596392355029\n",
      "-1.0908238303647024\n",
      "-1.8513427944906267\n",
      "1.0789463424797916\n",
      "-2.298558156394942\n",
      "-0.1131931197304963\n",
      "-0.3825066027610636\n",
      "-0.5982720403331815\n",
      "-1.6143412293910089\n",
      "0.1821612048362713\n",
      "0.6147274203119967\n",
      "0.43748985767244025\n",
      "0.6055834946642484\n",
      "-1.0670582073244104\n",
      "0.8550174292057574\n"
     ]
    }
   ],
   "source": [
    "# To generate number from bell curve along some mean and standard deviation\n",
    "# use normalvariate()\n",
    "for i in range(20):\n",
    "\tprint(random.normalvariate(0, 1))"
   ]
  },
  {
   "cell_type": "code",
   "execution_count": 111,
   "metadata": {},
   "outputs": [
    {
     "name": "stdout",
     "output_type": "stream",
     "text": [
      "6\n",
      "4\n",
      "4\n",
      "4\n",
      "6\n",
      "3\n",
      "3\n",
      "1\n",
      "3\n",
      "3\n",
      "5\n",
      "4\n",
      "2\n",
      "4\n",
      "1\n",
      "3\n",
      "6\n",
      "5\n",
      "1\n",
      "2\n"
     ]
    }
   ],
   "source": [
    "# Generate numbers within specific range with discrete probability distributions\n",
    "# This can be achieved using randint()\n",
    "for i in range(20):\n",
    "\tprint(random.randint(1, 6))"
   ]
  },
  {
   "cell_type": "code",
   "execution_count": 113,
   "metadata": {},
   "outputs": [
    {
     "name": "stdout",
     "output_type": "stream",
     "text": [
      "paper\n",
      "paper\n",
      "rock\n",
      "scissors\n",
      "scissors\n",
      "rock\n",
      "rock\n",
      "scissors\n",
      "paper\n",
      "paper\n"
     ]
    }
   ],
   "source": [
    "\"\"\"\n",
    "Random selection from list of values. playing rock, paper, scissors.\n",
    "\"\"\"\n",
    "outcomes = ['rock', 'paper', 'scissors']\n",
    "# To pick a random values from this list use a choice funtion\n",
    "for i in range(10):\n",
    "\tprint(random.choice(outcomes))"
   ]
  },
  {
   "cell_type": "markdown",
   "metadata": {},
   "source": [
    "#### List Comprehension"
   ]
  },
  {
   "cell_type": "code",
   "execution_count": 114,
   "metadata": {},
   "outputs": [
    {
     "name": "stdout",
     "output_type": "stream",
     "text": [
      "[1, 4, 9, 16, 25, 36, 49, 64, 81, 100, 121, 144, 169, 196, 225, 256, 289, 324, 361, 400, 441, 484, 529, 576, 625, 676, 729, 784, 841, 900, 961, 1024, 1089, 1156, 1225, 1296, 1369, 1444, 1521, 1600, 1681, 1764, 1849, 1936, 2025, 2116, 2209, 2304, 2401, 2500, 2601, 2704, 2809, 2916, 3025, 3136, 3249, 3364, 3481, 3600, 3721, 3844, 3969, 4096, 4225, 4356, 4489, 4624, 4761, 4900, 5041, 5184, 5329, 5476, 5625, 5776, 5929, 6084, 6241, 6400, 6561, 6724, 6889, 7056, 7225, 7396, 7569, 7744, 7921, 8100, 8281, 8464, 8649, 8836, 9025, 9216, 9409, 9604, 9801, 10000]\n"
     ]
    }
   ],
   "source": [
    "squares = []\n",
    "for i in range(1, 101):\n",
    "    squares.append(i**2)\n",
    "\n",
    "print(squares)"
   ]
  },
  {
   "cell_type": "code",
   "execution_count": 115,
   "metadata": {},
   "outputs": [
    {
     "name": "stdout",
     "output_type": "stream",
     "text": [
      "[1, 4, 9, 16, 25, 36, 49, 64, 81, 100, 121, 144, 169, 196, 225, 256, 289, 324, 361, 400, 441, 484, 529, 576, 625, 676, 729, 784, 841, 900, 961, 1024, 1089, 1156, 1225, 1296, 1369, 1444, 1521, 1600, 1681, 1764, 1849, 1936, 2025, 2116, 2209, 2304, 2401, 2500, 2601, 2704, 2809, 2916, 3025, 3136, 3249, 3364, 3481, 3600, 3721, 3844, 3969, 4096, 4225, 4356, 4489, 4624, 4761, 4900, 5041, 5184, 5329, 5476, 5625, 5776, 5929, 6084, 6241, 6400, 6561, 6724, 6889, 7056, 7225, 7396, 7569, 7744, 7921, 8100, 8281, 8464, 8649, 8836, 9025, 9216, 9409, 9604, 9801, 10000]\n"
     ]
    }
   ],
   "source": [
    "# List Comprehension\n",
    "squares2 = [i**2 for i in range(1, 101)]\n",
    "print(squares2)"
   ]
  },
  {
   "cell_type": "code",
   "execution_count": 116,
   "metadata": {},
   "outputs": [
    {
     "name": "stdout",
     "output_type": "stream",
     "text": [
      "[1, 4, 4, 1, 0, 1, 4, 4, 1, 0, 1, 4, 4, 1, 0, 1, 4, 4, 1, 0, 1, 4, 4, 1, 0, 1, 4, 4, 1, 0, 1, 4, 4, 1, 0, 1, 4, 4, 1, 0, 1, 4, 4, 1, 0, 1, 4, 4, 1, 0, 1, 4, 4, 1, 0, 1, 4, 4, 1, 0, 1, 4, 4, 1, 0, 1, 4, 4, 1, 0, 1, 4, 4, 1, 0, 1, 4, 4, 1, 0, 1, 4, 4, 1, 0, 1, 4, 4, 1, 0, 1, 4, 4, 1, 0, 1, 4, 4, 1, 0]\n"
     ]
    }
   ],
   "source": [
    "remainders = [x**2 % 5 for x in range(1, 101)]\n",
    "print(remainders)"
   ]
  },
  {
   "cell_type": "code",
   "execution_count": 118,
   "metadata": {},
   "outputs": [
    {
     "data": {
      "text/plain": [
       "['Star Wars',\n",
       " 'Gandhi',\n",
       " 'Casablancs',\n",
       " 'Shawshank',\n",
       " 'Good Will Hunting',\n",
       " 'Raiders of the Lost Ark',\n",
       " 'Groundhog Day']"
      ]
     },
     "execution_count": 118,
     "metadata": {},
     "output_type": "execute_result"
    }
   ],
   "source": [
    "movies = [\"Star Wars\", \"Gandhi\", \"Casablancs\", \"Shawshank\", \"Good Will Hunting\", \"Raiders of the Lost Ark\", \"Groundhog Day\"]\n",
    "movies"
   ]
  },
  {
   "cell_type": "code",
   "execution_count": 121,
   "metadata": {},
   "outputs": [
    {
     "name": "stdout",
     "output_type": "stream",
     "text": [
      "Without List Comprehension\n",
      "['Gandhi', 'Good Will Hunting', 'Groundhog Day']\n"
     ]
    }
   ],
   "source": [
    "# Getting all the movies that starts from 'G'\n",
    "print(\"Without List Comprehension\")\n",
    "gmovies = []\n",
    "for title in movies:\n",
    "    if title.startswith(\"G\"):\n",
    "        gmovies.append(title)\n",
    "\n",
    "print(gmovies)"
   ]
  },
  {
   "cell_type": "code",
   "execution_count": 122,
   "metadata": {},
   "outputs": [
    {
     "name": "stdout",
     "output_type": "stream",
     "text": [
      "With list compression\n",
      "['Gandhi', 'Good Will Hunting', 'Groundhog Day']\n"
     ]
    }
   ],
   "source": [
    "print(\"With list compression\")\n",
    "gmovies2 = [title for title in movies if title.startswith(\"G\")]\n",
    "print(gmovies2)"
   ]
  },
  {
   "cell_type": "code",
   "execution_count": 124,
   "metadata": {},
   "outputs": [
    {
     "data": {
      "text/plain": [
       "[('Citizen Kane', 1941),\n",
       " ('Spirited Away', 2001),\n",
       " ('Gattaca', 1997),\n",
       " ('No Country for Old Men', 2007)]"
      ]
     },
     "execution_count": 124,
     "metadata": {},
     "output_type": "execute_result"
    }
   ],
   "source": [
    "# List containing tuples\n",
    "movies3 = [(\"Citizen Kane\", 1941), (\"Spirited Away\", 2001), (\"Gattaca\", 1997), (\"No Country for Old Men\", 2007)]\n",
    "movies3"
   ]
  },
  {
   "cell_type": "code",
   "execution_count": 125,
   "metadata": {},
   "outputs": [
    {
     "name": "stdout",
     "output_type": "stream",
     "text": [
      "['Citizen Kane', 'Gattaca']\n"
     ]
    }
   ],
   "source": [
    "# Find the movies released befre 2000\n",
    "pre2k = [title for (title, year) in movies3 if year < 2000]\n",
    "print(pre2k)"
   ]
  },
  {
   "cell_type": "code",
   "execution_count": 126,
   "metadata": {},
   "outputs": [
    {
     "name": "stdout",
     "output_type": "stream",
     "text": [
      "[8, -12, 4]\n"
     ]
    }
   ],
   "source": [
    "# Scalar multiplication using list comprehension\n",
    "v = [2, -3, 1]\n",
    "w = [4*x for x in v]\n",
    "print(w)"
   ]
  },
  {
   "cell_type": "code",
   "execution_count": 127,
   "metadata": {},
   "outputs": [
    {
     "name": "stdout",
     "output_type": "stream",
     "text": [
      "[(1, 2), (1, 4), (1, 6), (1, 8), (3, 2), (3, 4), (3, 6), (3, 8), (5, 2), (5, 4), (5, 6), (5, 8), (7, 2), (7, 4), (7, 6), (7, 8)]\n"
     ]
    }
   ],
   "source": [
    "# Computing Cartesian Coordinate\n",
    "A = [1, 3, 5, 7]\n",
    "B = [2, 4, 6, 8]\n",
    "cartesian_product = [(a,b) for a in A for b in B]\n",
    "print(cartesian_product)"
   ]
  },
  {
   "cell_type": "markdown",
   "metadata": {},
   "source": [
    "#### Classes and Objects"
   ]
  },
  {
   "cell_type": "code",
   "execution_count": 129,
   "metadata": {},
   "outputs": [
    {
     "name": "stdout",
     "output_type": "stream",
     "text": [
      "John\n",
      "Dingell\n"
     ]
    }
   ],
   "source": [
    "class User:\n",
    "    pass\n",
    "\n",
    "# Creating object of a class\n",
    "user1 = User()\n",
    "user1.first_name = \"John\"\n",
    "user1.last_name = \"Dingell\"\n",
    "# Here first name and last name are called fields of the class User()\n",
    "print(user1.first_name)\n",
    "print(user1.last_name)"
   ]
  },
  {
   "cell_type": "code",
   "execution_count": 130,
   "metadata": {},
   "outputs": [
    {
     "name": "stdout",
     "output_type": "stream",
     "text": [
      "Frank poole\n"
     ]
    }
   ],
   "source": [
    "# Creating second user\n",
    "user2 = User()\n",
    "user2.first_name = \"Frank\"\n",
    "user2.last_name = \"poole\"\n",
    "print(user2.first_name, user2.last_name)"
   ]
  },
  {
   "cell_type": "code",
   "execution_count": 131,
   "metadata": {},
   "outputs": [
    {
     "name": "stdout",
     "output_type": "stream",
     "text": [
      "37\n",
      "2001 : A Space Odyssey\n"
     ]
    }
   ],
   "source": [
    "# Attaching different fields to different users\n",
    "user1.age = 37\n",
    "user2.favourite_book = \"2001 : A Space Odyssey\"\n",
    "print(user1.age)\n",
    "print(user2.favourite_book)"
   ]
  },
  {
   "cell_type": "code",
   "execution_count": null,
   "metadata": {},
   "outputs": [],
   "source": []
  }
 ],
 "metadata": {
  "kernelspec": {
   "display_name": "Python 3",
   "language": "python",
   "name": "python3"
  },
  "language_info": {
   "codemirror_mode": {
    "name": "ipython",
    "version": 3
   },
   "file_extension": ".py",
   "mimetype": "text/x-python",
   "name": "python",
   "nbconvert_exporter": "python",
   "pygments_lexer": "ipython3",
   "version": "3.6.6"
  }
 },
 "nbformat": 4,
 "nbformat_minor": 2
}
